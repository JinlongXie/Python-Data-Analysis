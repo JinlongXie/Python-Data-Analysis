{
 "cells": [
  {
   "cell_type": "markdown",
   "id": "70f83c73",
   "metadata": {},
   "source": [
    "# 项目：用线性回归预测房价数据"
   ]
  },
  {
   "cell_type": "markdown",
   "id": "f6efa627",
   "metadata": {},
   "source": [
    "## 分析目标"
   ]
  },
  {
   "cell_type": "markdown",
   "id": "3e9713d9",
   "metadata": {},
   "source": [
    "此数据分析报告的目的是，基于已有的房屋销售价格，以及有关该房屋的属性，进行线性回归分析，从而利用得到的线性回归模型，能对以下未知售价的房屋根据属性进行价格预测：\n",
    "\n",
    "面积为6500平方英尺，有4个卧室、2个厕所，总共2层，不位于主路，无客人房，带地下室，有热水器，没有空调，车位数为2，位于城市首选社区，简装修。"
   ]
  },
  {
   "cell_type": "markdown",
   "id": "71653fa2",
   "metadata": {},
   "source": [
    "## 简介"
   ]
  },
  {
   "cell_type": "markdown",
   "id": "b13227d3",
   "metadata": {},
   "source": [
    "数据集`house_price.csv`记录了超过五百栋房屋的交易价格，以及房屋的相关属性信息，包括房屋面积、卧室数、厕所数、楼层数、是否位于主路、是否有客房，等等。"
   ]
  },
  {
   "cell_type": "markdown",
   "id": "52dd0e1d",
   "metadata": {},
   "source": [
    "`house_price.csv`每列的含义如下：\n",
    "- price：房屋出售价格\n",
    "- area：房屋面积，以平方英尺为单位\n",
    "- bedrooms：卧室数\n",
    "- bathrooms：厕所数\n",
    "- stories：楼层数\n",
    "- mainroad：是否位于主路\n",
    "   - yes  是\n",
    "   - no\t  否\n",
    "- guestroom：是否有客房\n",
    "   - yes  是\n",
    "   - no\t  否\n",
    "- basement：是否有地下室\n",
    "   - yes  是\n",
    "   - no\t  否\n",
    "- hotwaterheating：是否有热水器\n",
    "   - yes  是\n",
    "   - no\t  否\n",
    "- airconditioning：是否有空调\n",
    "   - yes  是\n",
    "   - no\t  否\n",
    "- parking：车库容量，以车辆数量为单位\n",
    "- prefarea：是否位于城市首选社区\n",
    "   - yes  是\n",
    "   - no\t  否\n",
    "- furnishingstatus：装修状态\n",
    "   - furnished       精装\n",
    "   - semi-furnished\t 简装\n",
    "   - unfurnished     毛坯"
   ]
  },
  {
   "cell_type": "markdown",
   "id": "941a2eac",
   "metadata": {},
   "source": [
    "## 读取数据"
   ]
  },
  {
   "cell_type": "markdown",
   "id": "f252d194",
   "metadata": {},
   "source": [
    "导入数据分析所需要的库。"
   ]
  },
  {
   "cell_type": "code",
   "execution_count": 1,
   "id": "e63f1d0f",
   "metadata": {},
   "outputs": [],
   "source": [
    "import pandas as pd\n",
    "import matplotlib.pyplot as plt\n",
    "import seaborn as sns"
   ]
  },
  {
   "cell_type": "markdown",
   "id": "79ad25da",
   "metadata": {},
   "source": [
    "导入数据分析所需要的库，并通过Pandas的read_csv函数，将原始数据文件\"house_price.csv\"里的数据内容，解析为DataFrame并赋值给变量original_house_price。"
   ]
  },
  {
   "cell_type": "code",
   "execution_count": 2,
   "id": "2eae4ae5",
   "metadata": {},
   "outputs": [
    {
     "data": {
      "text/html": [
       "<div>\n",
       "<style scoped>\n",
       "    .dataframe tbody tr th:only-of-type {\n",
       "        vertical-align: middle;\n",
       "    }\n",
       "\n",
       "    .dataframe tbody tr th {\n",
       "        vertical-align: top;\n",
       "    }\n",
       "\n",
       "    .dataframe thead th {\n",
       "        text-align: right;\n",
       "    }\n",
       "</style>\n",
       "<table border=\"1\" class=\"dataframe\">\n",
       "  <thead>\n",
       "    <tr style=\"text-align: right;\">\n",
       "      <th></th>\n",
       "      <th>price</th>\n",
       "      <th>area</th>\n",
       "      <th>bedrooms</th>\n",
       "      <th>bathrooms</th>\n",
       "      <th>stories</th>\n",
       "      <th>mainroad</th>\n",
       "      <th>guestroom</th>\n",
       "      <th>basement</th>\n",
       "      <th>hotwaterheating</th>\n",
       "      <th>airconditioning</th>\n",
       "      <th>parking</th>\n",
       "      <th>prefarea</th>\n",
       "      <th>furnishingstatus</th>\n",
       "    </tr>\n",
       "  </thead>\n",
       "  <tbody>\n",
       "    <tr>\n",
       "      <th>0</th>\n",
       "      <td>13300000</td>\n",
       "      <td>7420</td>\n",
       "      <td>4</td>\n",
       "      <td>2</td>\n",
       "      <td>3</td>\n",
       "      <td>yes</td>\n",
       "      <td>no</td>\n",
       "      <td>no</td>\n",
       "      <td>no</td>\n",
       "      <td>yes</td>\n",
       "      <td>2</td>\n",
       "      <td>yes</td>\n",
       "      <td>furnished</td>\n",
       "    </tr>\n",
       "    <tr>\n",
       "      <th>1</th>\n",
       "      <td>12250000</td>\n",
       "      <td>8960</td>\n",
       "      <td>4</td>\n",
       "      <td>4</td>\n",
       "      <td>4</td>\n",
       "      <td>yes</td>\n",
       "      <td>no</td>\n",
       "      <td>no</td>\n",
       "      <td>no</td>\n",
       "      <td>yes</td>\n",
       "      <td>3</td>\n",
       "      <td>no</td>\n",
       "      <td>furnished</td>\n",
       "    </tr>\n",
       "    <tr>\n",
       "      <th>2</th>\n",
       "      <td>12250000</td>\n",
       "      <td>9960</td>\n",
       "      <td>3</td>\n",
       "      <td>2</td>\n",
       "      <td>2</td>\n",
       "      <td>yes</td>\n",
       "      <td>no</td>\n",
       "      <td>yes</td>\n",
       "      <td>no</td>\n",
       "      <td>no</td>\n",
       "      <td>2</td>\n",
       "      <td>yes</td>\n",
       "      <td>semi-furnished</td>\n",
       "    </tr>\n",
       "    <tr>\n",
       "      <th>3</th>\n",
       "      <td>12215000</td>\n",
       "      <td>7500</td>\n",
       "      <td>4</td>\n",
       "      <td>2</td>\n",
       "      <td>2</td>\n",
       "      <td>yes</td>\n",
       "      <td>no</td>\n",
       "      <td>yes</td>\n",
       "      <td>no</td>\n",
       "      <td>yes</td>\n",
       "      <td>3</td>\n",
       "      <td>yes</td>\n",
       "      <td>furnished</td>\n",
       "    </tr>\n",
       "    <tr>\n",
       "      <th>4</th>\n",
       "      <td>11410000</td>\n",
       "      <td>7420</td>\n",
       "      <td>4</td>\n",
       "      <td>1</td>\n",
       "      <td>2</td>\n",
       "      <td>yes</td>\n",
       "      <td>yes</td>\n",
       "      <td>yes</td>\n",
       "      <td>no</td>\n",
       "      <td>yes</td>\n",
       "      <td>2</td>\n",
       "      <td>no</td>\n",
       "      <td>furnished</td>\n",
       "    </tr>\n",
       "  </tbody>\n",
       "</table>\n",
       "</div>"
      ],
      "text/plain": [
       "      price  area  bedrooms  bathrooms  stories mainroad guestroom basement  \\\n",
       "0  13300000  7420         4          2        3      yes        no       no   \n",
       "1  12250000  8960         4          4        4      yes        no       no   \n",
       "2  12250000  9960         3          2        2      yes        no      yes   \n",
       "3  12215000  7500         4          2        2      yes        no      yes   \n",
       "4  11410000  7420         4          1        2      yes       yes      yes   \n",
       "\n",
       "  hotwaterheating airconditioning  parking prefarea furnishingstatus  \n",
       "0              no             yes        2      yes        furnished  \n",
       "1              no             yes        3       no        furnished  \n",
       "2              no              no        2      yes   semi-furnished  \n",
       "3              no             yes        3      yes        furnished  \n",
       "4              no             yes        2       no        furnished  "
      ]
     },
     "execution_count": 2,
     "metadata": {},
     "output_type": "execute_result"
    }
   ],
   "source": [
    "original_house_price = pd.read_csv(\"07 数据分析篇/house_price.csv\")\n",
    "original_house_price.head()"
   ]
  },
  {
   "cell_type": "markdown",
   "id": "f8ad388a",
   "metadata": {},
   "source": [
    "## 评估和清理数据"
   ]
  },
  {
   "cell_type": "markdown",
   "id": "c1dbdac5",
   "metadata": {},
   "source": [
    "在这一部分中，我们将对在上一部分建立的`original_house_price`DataFrame所包含的数据进行评估和清理。\n",
    "\n",
    "主要从两个方面进行：结构和内容，即整齐度和干净度。\n",
    "\n",
    "数据的结构性问题指不符合“每个变量为一列，每个观察值为一行，每种类型的观察单位为一个表格”这三个标准；数据的内容性问题包括存在丢失数据、重复数据、无效数据等。"
   ]
  },
  {
   "cell_type": "markdown",
   "id": "b6df1405",
   "metadata": {},
   "source": [
    "为了区分开经过清理的数据和原始的数据，我们创建新的变量`cleaned_house_price`，让它为`original_house_price`复制出的副本。我们之后的清理步骤都将被运用在`cleaned_house_price`上。"
   ]
  },
  {
   "cell_type": "code",
   "execution_count": 3,
   "id": "58f7a7de",
   "metadata": {},
   "outputs": [],
   "source": [
    "cleaned_house_price = original_house_price.copy()"
   ]
  },
  {
   "cell_type": "markdown",
   "id": "1d12ed01",
   "metadata": {},
   "source": [
    "### 数据整齐度"
   ]
  },
  {
   "cell_type": "code",
   "execution_count": 4,
   "id": "36e5f0bb",
   "metadata": {},
   "outputs": [
    {
     "data": {
      "text/html": [
       "<div>\n",
       "<style scoped>\n",
       "    .dataframe tbody tr th:only-of-type {\n",
       "        vertical-align: middle;\n",
       "    }\n",
       "\n",
       "    .dataframe tbody tr th {\n",
       "        vertical-align: top;\n",
       "    }\n",
       "\n",
       "    .dataframe thead th {\n",
       "        text-align: right;\n",
       "    }\n",
       "</style>\n",
       "<table border=\"1\" class=\"dataframe\">\n",
       "  <thead>\n",
       "    <tr style=\"text-align: right;\">\n",
       "      <th></th>\n",
       "      <th>price</th>\n",
       "      <th>area</th>\n",
       "      <th>bedrooms</th>\n",
       "      <th>bathrooms</th>\n",
       "      <th>stories</th>\n",
       "      <th>mainroad</th>\n",
       "      <th>guestroom</th>\n",
       "      <th>basement</th>\n",
       "      <th>hotwaterheating</th>\n",
       "      <th>airconditioning</th>\n",
       "      <th>parking</th>\n",
       "      <th>prefarea</th>\n",
       "      <th>furnishingstatus</th>\n",
       "    </tr>\n",
       "  </thead>\n",
       "  <tbody>\n",
       "    <tr>\n",
       "      <th>0</th>\n",
       "      <td>13300000</td>\n",
       "      <td>7420</td>\n",
       "      <td>4</td>\n",
       "      <td>2</td>\n",
       "      <td>3</td>\n",
       "      <td>yes</td>\n",
       "      <td>no</td>\n",
       "      <td>no</td>\n",
       "      <td>no</td>\n",
       "      <td>yes</td>\n",
       "      <td>2</td>\n",
       "      <td>yes</td>\n",
       "      <td>furnished</td>\n",
       "    </tr>\n",
       "    <tr>\n",
       "      <th>1</th>\n",
       "      <td>12250000</td>\n",
       "      <td>8960</td>\n",
       "      <td>4</td>\n",
       "      <td>4</td>\n",
       "      <td>4</td>\n",
       "      <td>yes</td>\n",
       "      <td>no</td>\n",
       "      <td>no</td>\n",
       "      <td>no</td>\n",
       "      <td>yes</td>\n",
       "      <td>3</td>\n",
       "      <td>no</td>\n",
       "      <td>furnished</td>\n",
       "    </tr>\n",
       "    <tr>\n",
       "      <th>2</th>\n",
       "      <td>12250000</td>\n",
       "      <td>9960</td>\n",
       "      <td>3</td>\n",
       "      <td>2</td>\n",
       "      <td>2</td>\n",
       "      <td>yes</td>\n",
       "      <td>no</td>\n",
       "      <td>yes</td>\n",
       "      <td>no</td>\n",
       "      <td>no</td>\n",
       "      <td>2</td>\n",
       "      <td>yes</td>\n",
       "      <td>semi-furnished</td>\n",
       "    </tr>\n",
       "    <tr>\n",
       "      <th>3</th>\n",
       "      <td>12215000</td>\n",
       "      <td>7500</td>\n",
       "      <td>4</td>\n",
       "      <td>2</td>\n",
       "      <td>2</td>\n",
       "      <td>yes</td>\n",
       "      <td>no</td>\n",
       "      <td>yes</td>\n",
       "      <td>no</td>\n",
       "      <td>yes</td>\n",
       "      <td>3</td>\n",
       "      <td>yes</td>\n",
       "      <td>furnished</td>\n",
       "    </tr>\n",
       "    <tr>\n",
       "      <th>4</th>\n",
       "      <td>11410000</td>\n",
       "      <td>7420</td>\n",
       "      <td>4</td>\n",
       "      <td>1</td>\n",
       "      <td>2</td>\n",
       "      <td>yes</td>\n",
       "      <td>yes</td>\n",
       "      <td>yes</td>\n",
       "      <td>no</td>\n",
       "      <td>yes</td>\n",
       "      <td>2</td>\n",
       "      <td>no</td>\n",
       "      <td>furnished</td>\n",
       "    </tr>\n",
       "    <tr>\n",
       "      <th>5</th>\n",
       "      <td>10850000</td>\n",
       "      <td>7500</td>\n",
       "      <td>3</td>\n",
       "      <td>3</td>\n",
       "      <td>1</td>\n",
       "      <td>yes</td>\n",
       "      <td>no</td>\n",
       "      <td>yes</td>\n",
       "      <td>no</td>\n",
       "      <td>yes</td>\n",
       "      <td>2</td>\n",
       "      <td>yes</td>\n",
       "      <td>semi-furnished</td>\n",
       "    </tr>\n",
       "    <tr>\n",
       "      <th>6</th>\n",
       "      <td>10150000</td>\n",
       "      <td>8580</td>\n",
       "      <td>4</td>\n",
       "      <td>3</td>\n",
       "      <td>4</td>\n",
       "      <td>yes</td>\n",
       "      <td>no</td>\n",
       "      <td>no</td>\n",
       "      <td>no</td>\n",
       "      <td>yes</td>\n",
       "      <td>2</td>\n",
       "      <td>yes</td>\n",
       "      <td>semi-furnished</td>\n",
       "    </tr>\n",
       "    <tr>\n",
       "      <th>7</th>\n",
       "      <td>10150000</td>\n",
       "      <td>16200</td>\n",
       "      <td>5</td>\n",
       "      <td>3</td>\n",
       "      <td>2</td>\n",
       "      <td>yes</td>\n",
       "      <td>no</td>\n",
       "      <td>no</td>\n",
       "      <td>no</td>\n",
       "      <td>no</td>\n",
       "      <td>0</td>\n",
       "      <td>no</td>\n",
       "      <td>unfurnished</td>\n",
       "    </tr>\n",
       "    <tr>\n",
       "      <th>8</th>\n",
       "      <td>9870000</td>\n",
       "      <td>8100</td>\n",
       "      <td>4</td>\n",
       "      <td>1</td>\n",
       "      <td>2</td>\n",
       "      <td>yes</td>\n",
       "      <td>yes</td>\n",
       "      <td>yes</td>\n",
       "      <td>no</td>\n",
       "      <td>yes</td>\n",
       "      <td>2</td>\n",
       "      <td>yes</td>\n",
       "      <td>furnished</td>\n",
       "    </tr>\n",
       "    <tr>\n",
       "      <th>9</th>\n",
       "      <td>9800000</td>\n",
       "      <td>5750</td>\n",
       "      <td>3</td>\n",
       "      <td>2</td>\n",
       "      <td>4</td>\n",
       "      <td>yes</td>\n",
       "      <td>yes</td>\n",
       "      <td>no</td>\n",
       "      <td>no</td>\n",
       "      <td>yes</td>\n",
       "      <td>1</td>\n",
       "      <td>yes</td>\n",
       "      <td>unfurnished</td>\n",
       "    </tr>\n",
       "  </tbody>\n",
       "</table>\n",
       "</div>"
      ],
      "text/plain": [
       "      price   area  bedrooms  bathrooms  stories mainroad guestroom basement  \\\n",
       "0  13300000   7420         4          2        3      yes        no       no   \n",
       "1  12250000   8960         4          4        4      yes        no       no   \n",
       "2  12250000   9960         3          2        2      yes        no      yes   \n",
       "3  12215000   7500         4          2        2      yes        no      yes   \n",
       "4  11410000   7420         4          1        2      yes       yes      yes   \n",
       "5  10850000   7500         3          3        1      yes        no      yes   \n",
       "6  10150000   8580         4          3        4      yes        no       no   \n",
       "7  10150000  16200         5          3        2      yes        no       no   \n",
       "8   9870000   8100         4          1        2      yes       yes      yes   \n",
       "9   9800000   5750         3          2        4      yes       yes       no   \n",
       "\n",
       "  hotwaterheating airconditioning  parking prefarea furnishingstatus  \n",
       "0              no             yes        2      yes        furnished  \n",
       "1              no             yes        3       no        furnished  \n",
       "2              no              no        2      yes   semi-furnished  \n",
       "3              no             yes        3      yes        furnished  \n",
       "4              no             yes        2       no        furnished  \n",
       "5              no             yes        2      yes   semi-furnished  \n",
       "6              no             yes        2      yes   semi-furnished  \n",
       "7              no              no        0       no      unfurnished  \n",
       "8              no             yes        2      yes        furnished  \n",
       "9              no             yes        1      yes      unfurnished  "
      ]
     },
     "execution_count": 4,
     "metadata": {},
     "output_type": "execute_result"
    }
   ],
   "source": [
    "cleaned_house_price.head(10)"
   ]
  },
  {
   "cell_type": "markdown",
   "id": "b8603070",
   "metadata": {},
   "source": [
    "从头部的10行数据来看，数据符合“每个变量为一列，每个观察值为一行，每种类型的观察单位为一个表格”，因此不存在结构性问题。"
   ]
  },
  {
   "cell_type": "markdown",
   "id": "257f83e7",
   "metadata": {},
   "source": [
    "### 数据干净度"
   ]
  },
  {
   "cell_type": "markdown",
   "id": "2356817f",
   "metadata": {},
   "source": [
    "接下来通过`info`，对数据内容进行大致了解。"
   ]
  },
  {
   "cell_type": "code",
   "execution_count": 5,
   "id": "2056e5a1",
   "metadata": {},
   "outputs": [
    {
     "name": "stdout",
     "output_type": "stream",
     "text": [
      "<class 'pandas.core.frame.DataFrame'>\n",
      "RangeIndex: 545 entries, 0 to 544\n",
      "Data columns (total 13 columns):\n",
      " #   Column            Non-Null Count  Dtype \n",
      "---  ------            --------------  ----- \n",
      " 0   price             545 non-null    int64 \n",
      " 1   area              545 non-null    int64 \n",
      " 2   bedrooms          545 non-null    int64 \n",
      " 3   bathrooms         545 non-null    int64 \n",
      " 4   stories           545 non-null    int64 \n",
      " 5   mainroad          545 non-null    object\n",
      " 6   guestroom         545 non-null    object\n",
      " 7   basement          545 non-null    object\n",
      " 8   hotwaterheating   545 non-null    object\n",
      " 9   airconditioning   545 non-null    object\n",
      " 10  parking           545 non-null    int64 \n",
      " 11  prefarea          545 non-null    object\n",
      " 12  furnishingstatus  545 non-null    object\n",
      "dtypes: int64(6), object(7)\n",
      "memory usage: 55.5+ KB\n"
     ]
    }
   ],
   "source": [
    "cleaned_house_price.info()"
   ]
  },
  {
   "cell_type": "markdown",
   "id": "b87fb496",
   "metadata": {},
   "source": [
    "从输出结果来看，`cleaned_house_price`共有545条观察值，变量不存在缺失值。\n",
    "\n",
    "数据类型方面，我们已知`mainroad`（是否位于主路）、`guestroom`（是否有客房）、`basement`（是否有地下室）、`hotwaterheating`（是否有热水器）、`airconditioning`（是否有空调）、`prefarea`（是否位于城市首选社区）、`furnishingstatus`（装修状态）都是分类数据，可以把数据类型都转换为Category。"
   ]
  },
  {
   "cell_type": "code",
   "execution_count": 6,
   "id": "18d51b30",
   "metadata": {},
   "outputs": [],
   "source": [
    "cleaned_house_price[\"mainroad\"] = cleaned_house_price[\"mainroad\"].astype(\"category\")\n",
    "cleaned_house_price[\"guestroom\"] = cleaned_house_price[\"guestroom\"].astype(\"category\")\n",
    "cleaned_house_price[\"basement\"] = cleaned_house_price[\"basement\"].astype(\"category\")\n",
    "cleaned_house_price[\"hotwaterheating\"] = cleaned_house_price[\"hotwaterheating\"].astype(\"category\")\n",
    "cleaned_house_price[\"airconditioning\"] = cleaned_house_price[\"airconditioning\"].astype(\"category\")\n",
    "cleaned_house_price[\"prefarea\"] = cleaned_house_price[\"prefarea\"].astype(\"category\")\n",
    "cleaned_house_price['furnishingstatus'] = cleaned_house_price['furnishingstatus'].astype(\"category\")"
   ]
  },
  {
   "cell_type": "code",
   "execution_count": 7,
   "id": "75f57f8f",
   "metadata": {},
   "outputs": [
    {
     "name": "stdout",
     "output_type": "stream",
     "text": [
      "<class 'pandas.core.frame.DataFrame'>\n",
      "RangeIndex: 545 entries, 0 to 544\n",
      "Data columns (total 13 columns):\n",
      " #   Column            Non-Null Count  Dtype   \n",
      "---  ------            --------------  -----   \n",
      " 0   price             545 non-null    int64   \n",
      " 1   area              545 non-null    int64   \n",
      " 2   bedrooms          545 non-null    int64   \n",
      " 3   bathrooms         545 non-null    int64   \n",
      " 4   stories           545 non-null    int64   \n",
      " 5   mainroad          545 non-null    category\n",
      " 6   guestroom         545 non-null    category\n",
      " 7   basement          545 non-null    category\n",
      " 8   hotwaterheating   545 non-null    category\n",
      " 9   airconditioning   545 non-null    category\n",
      " 10  parking           545 non-null    int64   \n",
      " 11  prefarea          545 non-null    category\n",
      " 12  furnishingstatus  545 non-null    category\n",
      "dtypes: category(7), int64(6)\n",
      "memory usage: 30.3 KB\n"
     ]
    }
   ],
   "source": [
    "cleaned_house_price.info()"
   ]
  },
  {
   "cell_type": "markdown",
   "id": "1c54dde8",
   "metadata": {},
   "source": [
    "#### 处理缺失数据"
   ]
  },
  {
   "cell_type": "markdown",
   "id": "47b2f592",
   "metadata": {},
   "source": [
    "从info方法的输出结果来看，cleaned_house_price不存在缺失值，因此不需要对缺失数据进行处理。"
   ]
  },
  {
   "cell_type": "markdown",
   "id": "e7a8122a",
   "metadata": {},
   "source": [
    "#### 处理重复数据"
   ]
  },
  {
   "cell_type": "markdown",
   "id": "8cf33f5c",
   "metadata": {},
   "source": [
    "根据数据变量的含义以及内容来看，允许变量重复，我们不需要对此数据检查是否存在重复值。"
   ]
  },
  {
   "cell_type": "markdown",
   "id": "03c96b67",
   "metadata": {},
   "source": [
    "#### 处理不一致数据"
   ]
  },
  {
   "cell_type": "markdown",
   "id": "8531844b",
   "metadata": {},
   "source": [
    "不一致数据可能存在于所有分类变量中，我们要查看是否存在不同值实际指代同一目标的情况。"
   ]
  },
  {
   "cell_type": "code",
   "execution_count": 8,
   "id": "666ae96b",
   "metadata": {},
   "outputs": [
    {
     "data": {
      "text/plain": [
       "yes    468\n",
       "no      77\n",
       "Name: mainroad, dtype: int64"
      ]
     },
     "execution_count": 8,
     "metadata": {},
     "output_type": "execute_result"
    }
   ],
   "source": [
    "cleaned_house_price[\"mainroad\"].value_counts()"
   ]
  },
  {
   "cell_type": "code",
   "execution_count": 9,
   "id": "1f77135d",
   "metadata": {},
   "outputs": [
    {
     "data": {
      "text/plain": [
       "no     448\n",
       "yes     97\n",
       "Name: guestroom, dtype: int64"
      ]
     },
     "execution_count": 9,
     "metadata": {},
     "output_type": "execute_result"
    }
   ],
   "source": [
    "cleaned_house_price[\"guestroom\"].value_counts()"
   ]
  },
  {
   "cell_type": "code",
   "execution_count": 10,
   "id": "7445d23a",
   "metadata": {},
   "outputs": [
    {
     "data": {
      "text/plain": [
       "no     354\n",
       "yes    191\n",
       "Name: basement, dtype: int64"
      ]
     },
     "execution_count": 10,
     "metadata": {},
     "output_type": "execute_result"
    }
   ],
   "source": [
    "cleaned_house_price[\"basement\"].value_counts()"
   ]
  },
  {
   "cell_type": "code",
   "execution_count": 11,
   "id": "d50e45a9",
   "metadata": {},
   "outputs": [
    {
     "data": {
      "text/plain": [
       "no     520\n",
       "yes     25\n",
       "Name: hotwaterheating, dtype: int64"
      ]
     },
     "execution_count": 11,
     "metadata": {},
     "output_type": "execute_result"
    }
   ],
   "source": [
    "cleaned_house_price[\"hotwaterheating\"].value_counts()"
   ]
  },
  {
   "cell_type": "code",
   "execution_count": 12,
   "id": "245434b6",
   "metadata": {},
   "outputs": [
    {
     "data": {
      "text/plain": [
       "no     373\n",
       "yes    172\n",
       "Name: airconditioning, dtype: int64"
      ]
     },
     "execution_count": 12,
     "metadata": {},
     "output_type": "execute_result"
    }
   ],
   "source": [
    "cleaned_house_price[\"airconditioning\"].value_counts()"
   ]
  },
  {
   "cell_type": "code",
   "execution_count": 13,
   "id": "695166f5",
   "metadata": {},
   "outputs": [
    {
     "data": {
      "text/plain": [
       "no     417\n",
       "yes    128\n",
       "Name: prefarea, dtype: int64"
      ]
     },
     "execution_count": 13,
     "metadata": {},
     "output_type": "execute_result"
    }
   ],
   "source": [
    "cleaned_house_price[\"prefarea\"].value_counts()"
   ]
  },
  {
   "cell_type": "code",
   "execution_count": 14,
   "id": "a4e27223",
   "metadata": {},
   "outputs": [
    {
     "data": {
      "text/plain": [
       "semi-furnished    227\n",
       "unfurnished       178\n",
       "furnished         140\n",
       "Name: furnishingstatus, dtype: int64"
      ]
     },
     "execution_count": 14,
     "metadata": {},
     "output_type": "execute_result"
    }
   ],
   "source": [
    "cleaned_house_price[\"furnishingstatus\"].value_counts()"
   ]
  },
  {
   "cell_type": "markdown",
   "id": "9dd86a76",
   "metadata": {},
   "source": [
    "从以上输出结果来看，均不存在不一致数据。"
   ]
  },
  {
   "cell_type": "markdown",
   "id": "c6b83104",
   "metadata": {},
   "source": [
    "#### 处理无效或错误数据"
   ]
  },
  {
   "cell_type": "markdown",
   "id": "e12244f7",
   "metadata": {},
   "source": [
    "可以通过DataFrame的describe方法，对数值统计信息进行快速了解。"
   ]
  },
  {
   "cell_type": "code",
   "execution_count": 15,
   "id": "0d400cb3",
   "metadata": {},
   "outputs": [
    {
     "data": {
      "text/html": [
       "<div>\n",
       "<style scoped>\n",
       "    .dataframe tbody tr th:only-of-type {\n",
       "        vertical-align: middle;\n",
       "    }\n",
       "\n",
       "    .dataframe tbody tr th {\n",
       "        vertical-align: top;\n",
       "    }\n",
       "\n",
       "    .dataframe thead th {\n",
       "        text-align: right;\n",
       "    }\n",
       "</style>\n",
       "<table border=\"1\" class=\"dataframe\">\n",
       "  <thead>\n",
       "    <tr style=\"text-align: right;\">\n",
       "      <th></th>\n",
       "      <th>price</th>\n",
       "      <th>area</th>\n",
       "      <th>bedrooms</th>\n",
       "      <th>bathrooms</th>\n",
       "      <th>stories</th>\n",
       "      <th>parking</th>\n",
       "    </tr>\n",
       "  </thead>\n",
       "  <tbody>\n",
       "    <tr>\n",
       "      <th>count</th>\n",
       "      <td>5.450000e+02</td>\n",
       "      <td>545.000000</td>\n",
       "      <td>545.000000</td>\n",
       "      <td>545.000000</td>\n",
       "      <td>545.000000</td>\n",
       "      <td>545.000000</td>\n",
       "    </tr>\n",
       "    <tr>\n",
       "      <th>mean</th>\n",
       "      <td>4.766729e+06</td>\n",
       "      <td>5150.541284</td>\n",
       "      <td>2.965138</td>\n",
       "      <td>1.286239</td>\n",
       "      <td>1.805505</td>\n",
       "      <td>0.693578</td>\n",
       "    </tr>\n",
       "    <tr>\n",
       "      <th>std</th>\n",
       "      <td>1.870440e+06</td>\n",
       "      <td>2170.141023</td>\n",
       "      <td>0.738064</td>\n",
       "      <td>0.502470</td>\n",
       "      <td>0.867492</td>\n",
       "      <td>0.861586</td>\n",
       "    </tr>\n",
       "    <tr>\n",
       "      <th>min</th>\n",
       "      <td>1.750000e+06</td>\n",
       "      <td>1650.000000</td>\n",
       "      <td>1.000000</td>\n",
       "      <td>1.000000</td>\n",
       "      <td>1.000000</td>\n",
       "      <td>0.000000</td>\n",
       "    </tr>\n",
       "    <tr>\n",
       "      <th>25%</th>\n",
       "      <td>3.430000e+06</td>\n",
       "      <td>3600.000000</td>\n",
       "      <td>2.000000</td>\n",
       "      <td>1.000000</td>\n",
       "      <td>1.000000</td>\n",
       "      <td>0.000000</td>\n",
       "    </tr>\n",
       "    <tr>\n",
       "      <th>50%</th>\n",
       "      <td>4.340000e+06</td>\n",
       "      <td>4600.000000</td>\n",
       "      <td>3.000000</td>\n",
       "      <td>1.000000</td>\n",
       "      <td>2.000000</td>\n",
       "      <td>0.000000</td>\n",
       "    </tr>\n",
       "    <tr>\n",
       "      <th>75%</th>\n",
       "      <td>5.740000e+06</td>\n",
       "      <td>6360.000000</td>\n",
       "      <td>3.000000</td>\n",
       "      <td>2.000000</td>\n",
       "      <td>2.000000</td>\n",
       "      <td>1.000000</td>\n",
       "    </tr>\n",
       "    <tr>\n",
       "      <th>max</th>\n",
       "      <td>1.330000e+07</td>\n",
       "      <td>16200.000000</td>\n",
       "      <td>6.000000</td>\n",
       "      <td>4.000000</td>\n",
       "      <td>4.000000</td>\n",
       "      <td>3.000000</td>\n",
       "    </tr>\n",
       "  </tbody>\n",
       "</table>\n",
       "</div>"
      ],
      "text/plain": [
       "              price          area    bedrooms   bathrooms     stories  \\\n",
       "count  5.450000e+02    545.000000  545.000000  545.000000  545.000000   \n",
       "mean   4.766729e+06   5150.541284    2.965138    1.286239    1.805505   \n",
       "std    1.870440e+06   2170.141023    0.738064    0.502470    0.867492   \n",
       "min    1.750000e+06   1650.000000    1.000000    1.000000    1.000000   \n",
       "25%    3.430000e+06   3600.000000    2.000000    1.000000    1.000000   \n",
       "50%    4.340000e+06   4600.000000    3.000000    1.000000    2.000000   \n",
       "75%    5.740000e+06   6360.000000    3.000000    2.000000    2.000000   \n",
       "max    1.330000e+07  16200.000000    6.000000    4.000000    4.000000   \n",
       "\n",
       "          parking  \n",
       "count  545.000000  \n",
       "mean     0.693578  \n",
       "std      0.861586  \n",
       "min      0.000000  \n",
       "25%      0.000000  \n",
       "50%      0.000000  \n",
       "75%      1.000000  \n",
       "max      3.000000  "
      ]
     },
     "execution_count": 15,
     "metadata": {},
     "output_type": "execute_result"
    }
   ],
   "source": [
    "cleaned_house_price.describe()"
   ]
  },
  {
   "cell_type": "markdown",
   "id": "4f37d462",
   "metadata": {},
   "source": [
    "从以上统计信息来看，cleaned_house_price里不存在脱离现实意义的数值。"
   ]
  },
  {
   "cell_type": "markdown",
   "id": "57777b4f",
   "metadata": {},
   "source": [
    "## 探索数据"
   ]
  },
  {
   "cell_type": "markdown",
   "id": "70abf4b1",
   "metadata": {},
   "source": [
    "在着手推断统计学分析之前，我们可以先借助数据可视化，探索数值变量的分布，以及与房价存在相关性的变量，为后续的进一步分析提供方向。"
   ]
  },
  {
   "cell_type": "code",
   "execution_count": 16,
   "id": "f7fa0e31",
   "metadata": {},
   "outputs": [],
   "source": [
    "# 设置图表色盘为\"pastel\"\n",
    "sns.set_palette(\"pastel\")"
   ]
  },
  {
   "cell_type": "markdown",
   "id": "0cb9a58d",
   "metadata": {},
   "source": [
    "### 房价分布"
   ]
  },
  {
   "cell_type": "code",
   "execution_count": 17,
   "id": "7f82415e",
   "metadata": {},
   "outputs": [
    {
     "data": {
      "image/png": "[encoded data removed]",
      "text/plain": [
       "<Figure size 504x252 with 2 Axes>"
      ]
     },
     "metadata": {
      "needs_background": "light"
     },
     "output_type": "display_data"
    }
   ],
   "source": [
    "plt.rcParams[\"figure.figsize\"] = [7.00, 3.50] # 设置图像显示大小\n",
    "plt.rcParams[\"figure.autolayout\"] = True  # 自动调整图形布局，以完整显示图形内容\n",
    "figure, axes = plt.subplots(1, 2)\n",
    "sns.histplot(cleaned_house_price, x=\"price\", ax=axes[0])\n",
    "sns.boxplot(data=cleaned_house_price, y=\"price\", ax=axes[1])\n",
    "plt.show()"
   ]
  },
  {
   "cell_type": "markdown",
   "id": "d5df9372",
   "metadata": {},
   "source": [
    "房价呈右偏态分布，说明数据集中的大多数房子价格中等，但有一些价格很高的极端值，使得均值被拉高。"
   ]
  },
  {
   "cell_type": "markdown",
   "id": "34942c58",
   "metadata": {},
   "source": [
    "### 面积分布"
   ]
  },
  {
   "cell_type": "code",
   "execution_count": 18,
   "id": "bd1a1984",
   "metadata": {},
   "outputs": [
    {
     "data": {
      "image/png": "[encoded data removed]",
      "text/plain": [
       "<Figure size 504x252 with 2 Axes>"
      ]
     },
     "metadata": {
      "needs_background": "light"
     },
     "output_type": "display_data"
    }
   ],
   "source": [
    "figure, axes = plt.subplots(1, 2)\n",
    "sns.histplot(cleaned_house_price, x=\"area\", ax=axes[0])\n",
    "sns.boxplot(data=cleaned_house_price, y=\"area\", ax=axes[1])\n",
    "plt.show()"
   ]
  },
  {
   "cell_type": "markdown",
   "id": "80b55a52",
   "metadata": {},
   "source": [
    "面积的分布与房价相似，也呈右偏态分布。"
   ]
  },
  {
   "cell_type": "markdown",
   "id": "2319ca75",
   "metadata": {},
   "source": [
    "### 房价与面积的关系"
   ]
  },
  {
   "cell_type": "code",
   "execution_count": 19,
   "id": "41d093f2",
   "metadata": {},
   "outputs": [
    {
     "data": {
      "image/png": "[encoded data removed]",
      "text/plain": [
       "<Figure size 504x252 with 1 Axes>"
      ]
     },
     "metadata": {
      "needs_background": "light"
     },
     "output_type": "display_data"
    }
   ],
   "source": [
    "sns.scatterplot(data=cleaned_house_price, x=\"area\", y=\"price\")\n",
    "plt.show()"
   ]
  },
  {
   "cell_type": "markdown",
   "id": "a054b33e",
   "metadata": {},
   "source": [
    "从散点图来看，能大致看出一些正相关关系，但关系的强度需要后续通过计算相关性来得到。"
   ]
  },
  {
   "cell_type": "markdown",
   "id": "ced87277",
   "metadata": {},
   "source": [
    "### 房价与卧室数的关系"
   ]
  },
  {
   "cell_type": "code",
   "execution_count": 20,
   "id": "3da8adee",
   "metadata": {},
   "outputs": [
    {
     "data": {
      "image/png": "[encoded data removed]",
      "text/plain": [
       "<Figure size 504x252 with 2 Axes>"
      ]
     },
     "metadata": {
      "needs_background": "light"
     },
     "output_type": "display_data"
    }
   ],
   "source": [
    "figure, axes = plt.subplots(1, 2)\n",
    "sns.histplot(cleaned_house_price, x=\"bedrooms\", ax=axes[0])\n",
    "sns.barplot(data=cleaned_house_price, x=\"bedrooms\", y=\"price\", ax=axes[1])\n",
    "plt.show()"
   ]
  },
  {
   "cell_type": "markdown",
   "id": "b00a706c",
   "metadata": {},
   "source": [
    "此数据集中房子的卧室数范围为1-6个，其中大多房子有2-4个。\n",
    "\n",
    "从平均房价与卧室数之间的柱状图来看，当卧室数小于5个时，卧室数多的房子价格也相应高，但一旦多于5个，房价并不一定相应更高。"
   ]
  },
  {
   "cell_type": "markdown",
   "id": "9b4d9723",
   "metadata": {},
   "source": [
    "### 房价与洗手间数的关系"
   ]
  },
  {
   "cell_type": "code",
   "execution_count": 21,
   "id": "59c8674e",
   "metadata": {},
   "outputs": [
    {
     "data": {
      "image/png": "[encoded data removed]",
      "text/plain": [
       "<Figure size 504x252 with 2 Axes>"
      ]
     },
     "metadata": {
      "needs_background": "light"
     },
     "output_type": "display_data"
    }
   ],
   "source": [
    "figure, axes = plt.subplots(1, 2)\n",
    "sns.histplot(cleaned_house_price, x=\"bathrooms\", ax=axes[0])\n",
    "sns.barplot(data=cleaned_house_price, x=\"bathrooms\", y=\"price\", ax=axes[1])\n",
    "plt.show()"
   ]
  },
  {
   "cell_type": "markdown",
   "id": "a6045d1a",
   "metadata": {},
   "source": [
    "数据集中房子洗手间数量最少1个，最多4个，其中为1个的数量最多。\n",
    "\n",
    "从平均房价与洗手间数之间的柱状图来看，洗手间多的房子价格也相应高。"
   ]
  },
  {
   "cell_type": "markdown",
   "id": "f78c0587",
   "metadata": {},
   "source": [
    "### 房价与楼层数的关系"
   ]
  },
  {
   "cell_type": "code",
   "execution_count": 22,
   "id": "cea35710",
   "metadata": {},
   "outputs": [
    {
     "data": {
      "image/png": "[encoded data removed]",
      "text/plain": [
       "<Figure size 504x252 with 2 Axes>"
      ]
     },
     "metadata": {
      "needs_background": "light"
     },
     "output_type": "display_data"
    }
   ],
   "source": [
    "figure, axes = plt.subplots(1, 2)\n",
    "sns.histplot(cleaned_house_price, x=\"stories\", ax=axes[0])\n",
    "sns.barplot(data=cleaned_house_price, x=\"stories\", y=\"price\", ax=axes[1])\n",
    "plt.show()"
   ]
  },
  {
   "cell_type": "markdown",
   "id": "ab73eded",
   "metadata": {},
   "source": [
    "此数据集中房子的楼层数范围为1-4层，其中大多房子有1层或2层。\n",
    "\n",
    "从平均房价与楼层数之间的柱状图来看，楼层多的房子价格也相应高。"
   ]
  },
  {
   "cell_type": "markdown",
   "id": "6c672b80",
   "metadata": {},
   "source": [
    "### 房价与车库数的关系"
   ]
  },
  {
   "cell_type": "code",
   "execution_count": 23,
   "id": "eaec454f",
   "metadata": {},
   "outputs": [
    {
     "data": {
      "image/png": "[encoded data removed]",
      "text/plain": [
       "<Figure size 504x252 with 2 Axes>"
      ]
     },
     "metadata": {
      "needs_background": "light"
     },
     "output_type": "display_data"
    }
   ],
   "source": [
    "figure, axes = plt.subplots(1, 2)\n",
    "sns.histplot(cleaned_house_price, x=\"parking\", ax=axes[0])\n",
    "sns.barplot(data=cleaned_house_price, x=\"parking\", y=\"price\", ax=axes[1])\n",
    "plt.show()"
   ]
  },
  {
   "cell_type": "markdown",
   "id": "aabde542",
   "metadata": {},
   "source": [
    "此数据集中房子的车库数范围为0-3个，不带车库的房子数量是最多的，其次是1个和2个。\n",
    "\n",
    "从平均房价与楼层数之间的柱状图来看，车库多的房子价格也相应高，但超过2个后，房价并不一定相应更高。"
   ]
  },
  {
   "cell_type": "markdown",
   "id": "5d275793",
   "metadata": {},
   "source": [
    "### 房价与是否在主路"
   ]
  },
  {
   "cell_type": "code",
   "execution_count": 24,
   "id": "a65752f1",
   "metadata": {},
   "outputs": [
    {
     "data": {
      "image/png": "[encoded data removed]",
      "text/plain": [
       "<Figure size 504x252 with 2 Axes>"
      ]
     },
     "metadata": {
      "needs_background": "light"
     },
     "output_type": "display_data"
    }
   ],
   "source": [
    "figure, axes = plt.subplots(1, 2)\n",
    "mainroad_count = cleaned_house_price[\"mainroad\"].value_counts()\n",
    "mainroad_label = mainroad_count.index\n",
    "axes[0].pie(mainroad_count, labels=mainroad_label)\n",
    "sns.barplot(data=cleaned_house_price, x=\"mainroad\", y=\"price\", ax=axes[1])\n",
    "plt.show()"
   ]
  },
  {
   "cell_type": "markdown",
   "id": "5c3e83c4",
   "metadata": {},
   "source": [
    "此数据集中房子大多数位于主路。\n",
    "\n",
    "从平均房价与是否在主路之间的柱状图来看，在主路的的房子价格也相应高。"
   ]
  },
  {
   "cell_type": "markdown",
   "id": "1514c17b",
   "metadata": {},
   "source": [
    "### 房价与是否有客人房"
   ]
  },
  {
   "cell_type": "code",
   "execution_count": 25,
   "id": "f3f6b719",
   "metadata": {},
   "outputs": [
    {
     "data": {
      "image/png": "[encoded data removed]",
      "text/plain": [
       "<Figure size 504x252 with 2 Axes>"
      ]
     },
     "metadata": {
      "needs_background": "light"
     },
     "output_type": "display_data"
    }
   ],
   "source": [
    "figure, axes = plt.subplots(1, 2)\n",
    "guestroom_count = cleaned_house_price[\"guestroom\"].value_counts()\n",
    "guestroom_label = guestroom_count.index\n",
    "axes[0].pie(guestroom_count, labels=guestroom_label)\n",
    "sns.barplot(data=cleaned_house_price, x=\"guestroom\", y=\"price\", ax=axes[1])\n",
    "plt.show()"
   ]
  },
  {
   "cell_type": "markdown",
   "id": "f609c30f",
   "metadata": {},
   "source": [
    "此数据集中房子大部分没有客人房。\n",
    "\n",
    "从平均房价与楼层数之间的柱状图来看，有客人房的的房子价格也相应高。"
   ]
  },
  {
   "cell_type": "markdown",
   "id": "ad0626bf",
   "metadata": {},
   "source": [
    "### 房价与是否有地下室"
   ]
  },
  {
   "cell_type": "code",
   "execution_count": 26,
   "id": "fce22b73",
   "metadata": {},
   "outputs": [
    {
     "data": {
      "image/png": "[encoded data removed]",
      "text/plain": [
       "<Figure size 504x252 with 2 Axes>"
      ]
     },
     "metadata": {
      "needs_background": "light"
     },
     "output_type": "display_data"
    }
   ],
   "source": [
    "figure, axes = plt.subplots(1, 2)\n",
    "basement_count = cleaned_house_price[\"basement\"].value_counts()\n",
    "basement_label = basement_count.index\n",
    "axes[0].pie(basement_count, labels=basement_label)\n",
    "sns.barplot(data=cleaned_house_price, x=\"basement\", y=\"price\", ax=axes[1])\n",
    "plt.show()"
   ]
  },
  {
   "cell_type": "markdown",
   "id": "2ba49c3f",
   "metadata": {},
   "source": [
    "此数据集中更多的房子没有地下室。\n",
    "\n",
    "从平均房价与地下室之间的柱状图来看，有地下室的的房子价格也相应高。"
   ]
  },
  {
   "cell_type": "markdown",
   "id": "30256079",
   "metadata": {},
   "source": [
    "### 房价与是否有热水器"
   ]
  },
  {
   "cell_type": "code",
   "execution_count": 27,
   "id": "ce9ebad3",
   "metadata": {},
   "outputs": [
    {
     "data": {
      "image/png": "[encoded data removed]",
      "text/plain": [
       "<Figure size 504x252 with 2 Axes>"
      ]
     },
     "metadata": {
      "needs_background": "light"
     },
     "output_type": "display_data"
    }
   ],
   "source": [
    "figure, axes = plt.subplots(1, 2)\n",
    "hotwaterheating_count = cleaned_house_price['hotwaterheating'].value_counts()\n",
    "hotwaterheating_label = hotwaterheating_count.index\n",
    "axes[0].pie(hotwaterheating_count, labels=hotwaterheating_label)\n",
    "sns.barplot(data=cleaned_house_price, x='hotwaterheating', y='price', ax=axes[1])\n",
    "plt.show()"
   ]
  },
  {
   "cell_type": "markdown",
   "id": "4c4f6495",
   "metadata": {},
   "source": [
    "此数据集中房子绝大部分没有热水器。\n",
    "\n",
    "从平均房价与热水器之间的柱状图来看，有热水器的的房子价格也相应高。"
   ]
  },
  {
   "cell_type": "markdown",
   "id": "fb658514",
   "metadata": {},
   "source": [
    "### 房价与是否有空调"
   ]
  },
  {
   "cell_type": "code",
   "execution_count": 28,
   "id": "e3519c12",
   "metadata": {},
   "outputs": [
    {
     "data": {
      "image/png": "[encoded data removed]",
      "text/plain": [
       "<Figure size 504x252 with 2 Axes>"
      ]
     },
     "metadata": {
      "needs_background": "light"
     },
     "output_type": "display_data"
    }
   ],
   "source": [
    "figure, axes = plt.subplots(1, 2)\n",
    "airconditioning_count = cleaned_house_price['airconditioning'].value_counts()\n",
    "airconditioning_label = hotwaterheating_count.index\n",
    "axes[0].pie(airconditioning_count, labels=airconditioning_label)\n",
    "sns.barplot(data=cleaned_house_price, x='airconditioning', y='price', ax=axes[1])\n",
    "plt.show()"
   ]
  },
  {
   "cell_type": "markdown",
   "id": "fd50832b",
   "metadata": {},
   "source": [
    "此数据集中更多的房子没有空调。\n",
    "\n",
    "从平均房价与空调之间的柱状图来看，有空调的的房子价格也相应高。"
   ]
  },
  {
   "cell_type": "markdown",
   "id": "375fac11",
   "metadata": {},
   "source": [
    "### 房价与是否位于城市首选社区"
   ]
  },
  {
   "cell_type": "code",
   "execution_count": 29,
   "id": "2774cb13",
   "metadata": {},
   "outputs": [
    {
     "data": {
      "image/png": "[encoded data removed]",
      "text/plain": [
       "<Figure size 504x252 with 2 Axes>"
      ]
     },
     "metadata": {
      "needs_background": "light"
     },
     "output_type": "display_data"
    }
   ],
   "source": [
    "figure, axes = plt.subplots(1, 2)\n",
    "prefarea_count = cleaned_house_price['prefarea'].value_counts()\n",
    "prefarea_label = prefarea_count.index\n",
    "axes[0].pie(prefarea_count, labels=prefarea_label)\n",
    "sns.barplot(data=cleaned_house_price, x='prefarea', y='price', ax=axes[1])\n",
    "plt.show()"
   ]
  },
  {
   "cell_type": "markdown",
   "id": "1a5e15f3",
   "metadata": {},
   "source": [
    "此数据集中大部分房子不在城市首选社区。\n",
    "\n",
    "从平均房价与城市首选社区之间的柱状图来看，在城市首选社区的的房子价格也相应高。"
   ]
  },
  {
   "cell_type": "markdown",
   "id": "50236dca",
   "metadata": {},
   "source": [
    "### 房价与装修状态"
   ]
  },
  {
   "cell_type": "code",
   "execution_count": 30,
   "id": "22b2c445",
   "metadata": {},
   "outputs": [
    {
     "data": {
      "image/png": "[encoded data removed]",
      "text/plain": [
       "<Figure size 504x252 with 2 Axes>"
      ]
     },
     "metadata": {
      "needs_background": "light"
     },
     "output_type": "display_data"
    }
   ],
   "source": [
    "figure, axes = plt.subplots(1, 2)\n",
    "furnishingstatus_count = cleaned_house_price[\"furnishingstatus\"].value_counts()\n",
    "furnishingstatus_label = furnishingstatus_count.index\n",
    "axes[0].pie(furnishingstatus_count, labels=furnishingstatus_label)\n",
    "sns.barplot(data=cleaned_house_price, x=\"furnishingstatus\", y=\"price\", ax=axes[1])\n",
    "axes[1].set_xticklabels(axes[1].get_xticklabels(), rotation=45, horizontalalignment=\"right\")\n",
    "plt.show()"
   ]
  },
  {
   "cell_type": "markdown",
   "id": "0b7c5a0b",
   "metadata": {},
   "source": [
    "此数据集中简装和毛坯的房子较多，1/4左右房子为精装。\n",
    "\n",
    "从平均房价与装修状态之间的柱状图来看，精装的房子价格高于简装，简装高于毛坯。"
   ]
  },
  {
   "cell_type": "markdown",
   "id": "78398537",
   "metadata": {},
   "source": [
    "## 分析数据"
   ]
  },
  {
   "cell_type": "markdown",
   "id": "53a2143d",
   "metadata": {},
   "source": [
    "在分析步骤中，我们将利用`cleaned_house_price`的数据，进行线性回归分析，目标是得到一个可以根据房屋各个属性对价格进行预测的数学模型。\n",
    "\n",
    "我们先引入做线性回归所需的模块。"
   ]
  },
  {
   "cell_type": "code",
   "execution_count": 31,
   "id": "2794257b",
   "metadata": {},
   "outputs": [],
   "source": [
    "import statsmodels.api as sm"
   ]
  },
  {
   "cell_type": "markdown",
   "id": "98ed485e",
   "metadata": {},
   "source": [
    "然后可以创建一个新的DataFrame`lr_house_price`，让它作为我们进行线性回归分析所用的数据。\n",
    "\n",
    "和`cleaned_house_price`区分开的原因是，我们在进行回归分析前，还可能需要对数据进行一些准备，比如引入虚拟变量，这些都可以在`lr_house_price`上执行。"
   ]
  },
  {
   "cell_type": "code",
   "execution_count": 32,
   "id": "634479bf",
   "metadata": {},
   "outputs": [],
   "source": [
    "lr_house_price = cleaned_house_price.copy()"
   ]
  },
  {
   "cell_type": "markdown",
   "id": "e513f0a9",
   "metadata": {},
   "source": [
    "由于数据里存在分类变量，无法直接建立线性回归模型。我们需要引入虚拟变量，也就是用0和1分别表示是否属于该分类。"
   ]
  },
  {
   "cell_type": "code",
   "execution_count": 33,
   "id": "b753131b",
   "metadata": {},
   "outputs": [
    {
     "data": {
      "text/html": [
       "<div>\n",
       "<style scoped>\n",
       "    .dataframe tbody tr th:only-of-type {\n",
       "        vertical-align: middle;\n",
       "    }\n",
       "\n",
       "    .dataframe tbody tr th {\n",
       "        vertical-align: top;\n",
       "    }\n",
       "\n",
       "    .dataframe thead th {\n",
       "        text-align: right;\n",
       "    }\n",
       "</style>\n",
       "<table border=\"1\" class=\"dataframe\">\n",
       "  <thead>\n",
       "    <tr style=\"text-align: right;\">\n",
       "      <th></th>\n",
       "      <th>price</th>\n",
       "      <th>area</th>\n",
       "      <th>bedrooms</th>\n",
       "      <th>bathrooms</th>\n",
       "      <th>stories</th>\n",
       "      <th>parking</th>\n",
       "      <th>mainroad_yes</th>\n",
       "      <th>guestroom_yes</th>\n",
       "      <th>basement_yes</th>\n",
       "      <th>hotwaterheating_yes</th>\n",
       "      <th>airconditioning_yes</th>\n",
       "      <th>prefarea_yes</th>\n",
       "      <th>furnishingstatus_semi-furnished</th>\n",
       "      <th>furnishingstatus_unfurnished</th>\n",
       "    </tr>\n",
       "  </thead>\n",
       "  <tbody>\n",
       "    <tr>\n",
       "      <th>0</th>\n",
       "      <td>13300000</td>\n",
       "      <td>7420</td>\n",
       "      <td>4</td>\n",
       "      <td>2</td>\n",
       "      <td>3</td>\n",
       "      <td>2</td>\n",
       "      <td>1</td>\n",
       "      <td>0</td>\n",
       "      <td>0</td>\n",
       "      <td>0</td>\n",
       "      <td>1</td>\n",
       "      <td>1</td>\n",
       "      <td>0</td>\n",
       "      <td>0</td>\n",
       "    </tr>\n",
       "    <tr>\n",
       "      <th>1</th>\n",
       "      <td>12250000</td>\n",
       "      <td>8960</td>\n",
       "      <td>4</td>\n",
       "      <td>4</td>\n",
       "      <td>4</td>\n",
       "      <td>3</td>\n",
       "      <td>1</td>\n",
       "      <td>0</td>\n",
       "      <td>0</td>\n",
       "      <td>0</td>\n",
       "      <td>1</td>\n",
       "      <td>0</td>\n",
       "      <td>0</td>\n",
       "      <td>0</td>\n",
       "    </tr>\n",
       "    <tr>\n",
       "      <th>2</th>\n",
       "      <td>12250000</td>\n",
       "      <td>9960</td>\n",
       "      <td>3</td>\n",
       "      <td>2</td>\n",
       "      <td>2</td>\n",
       "      <td>2</td>\n",
       "      <td>1</td>\n",
       "      <td>0</td>\n",
       "      <td>1</td>\n",
       "      <td>0</td>\n",
       "      <td>0</td>\n",
       "      <td>1</td>\n",
       "      <td>1</td>\n",
       "      <td>0</td>\n",
       "    </tr>\n",
       "    <tr>\n",
       "      <th>3</th>\n",
       "      <td>12215000</td>\n",
       "      <td>7500</td>\n",
       "      <td>4</td>\n",
       "      <td>2</td>\n",
       "      <td>2</td>\n",
       "      <td>3</td>\n",
       "      <td>1</td>\n",
       "      <td>0</td>\n",
       "      <td>1</td>\n",
       "      <td>0</td>\n",
       "      <td>1</td>\n",
       "      <td>1</td>\n",
       "      <td>0</td>\n",
       "      <td>0</td>\n",
       "    </tr>\n",
       "    <tr>\n",
       "      <th>4</th>\n",
       "      <td>11410000</td>\n",
       "      <td>7420</td>\n",
       "      <td>4</td>\n",
       "      <td>1</td>\n",
       "      <td>2</td>\n",
       "      <td>2</td>\n",
       "      <td>1</td>\n",
       "      <td>1</td>\n",
       "      <td>1</td>\n",
       "      <td>0</td>\n",
       "      <td>1</td>\n",
       "      <td>0</td>\n",
       "      <td>0</td>\n",
       "      <td>0</td>\n",
       "    </tr>\n",
       "    <tr>\n",
       "      <th>...</th>\n",
       "      <td>...</td>\n",
       "      <td>...</td>\n",
       "      <td>...</td>\n",
       "      <td>...</td>\n",
       "      <td>...</td>\n",
       "      <td>...</td>\n",
       "      <td>...</td>\n",
       "      <td>...</td>\n",
       "      <td>...</td>\n",
       "      <td>...</td>\n",
       "      <td>...</td>\n",
       "      <td>...</td>\n",
       "      <td>...</td>\n",
       "      <td>...</td>\n",
       "    </tr>\n",
       "    <tr>\n",
       "      <th>540</th>\n",
       "      <td>1820000</td>\n",
       "      <td>3000</td>\n",
       "      <td>2</td>\n",
       "      <td>1</td>\n",
       "      <td>1</td>\n",
       "      <td>2</td>\n",
       "      <td>1</td>\n",
       "      <td>0</td>\n",
       "      <td>1</td>\n",
       "      <td>0</td>\n",
       "      <td>0</td>\n",
       "      <td>0</td>\n",
       "      <td>0</td>\n",
       "      <td>1</td>\n",
       "    </tr>\n",
       "    <tr>\n",
       "      <th>541</th>\n",
       "      <td>1767150</td>\n",
       "      <td>2400</td>\n",
       "      <td>3</td>\n",
       "      <td>1</td>\n",
       "      <td>1</td>\n",
       "      <td>0</td>\n",
       "      <td>0</td>\n",
       "      <td>0</td>\n",
       "      <td>0</td>\n",
       "      <td>0</td>\n",
       "      <td>0</td>\n",
       "      <td>0</td>\n",
       "      <td>1</td>\n",
       "      <td>0</td>\n",
       "    </tr>\n",
       "    <tr>\n",
       "      <th>542</th>\n",
       "      <td>1750000</td>\n",
       "      <td>3620</td>\n",
       "      <td>2</td>\n",
       "      <td>1</td>\n",
       "      <td>1</td>\n",
       "      <td>0</td>\n",
       "      <td>1</td>\n",
       "      <td>0</td>\n",
       "      <td>0</td>\n",
       "      <td>0</td>\n",
       "      <td>0</td>\n",
       "      <td>0</td>\n",
       "      <td>0</td>\n",
       "      <td>1</td>\n",
       "    </tr>\n",
       "    <tr>\n",
       "      <th>543</th>\n",
       "      <td>1750000</td>\n",
       "      <td>2910</td>\n",
       "      <td>3</td>\n",
       "      <td>1</td>\n",
       "      <td>1</td>\n",
       "      <td>0</td>\n",
       "      <td>0</td>\n",
       "      <td>0</td>\n",
       "      <td>0</td>\n",
       "      <td>0</td>\n",
       "      <td>0</td>\n",
       "      <td>0</td>\n",
       "      <td>0</td>\n",
       "      <td>0</td>\n",
       "    </tr>\n",
       "    <tr>\n",
       "      <th>544</th>\n",
       "      <td>1750000</td>\n",
       "      <td>3850</td>\n",
       "      <td>3</td>\n",
       "      <td>1</td>\n",
       "      <td>2</td>\n",
       "      <td>0</td>\n",
       "      <td>1</td>\n",
       "      <td>0</td>\n",
       "      <td>0</td>\n",
       "      <td>0</td>\n",
       "      <td>0</td>\n",
       "      <td>0</td>\n",
       "      <td>0</td>\n",
       "      <td>1</td>\n",
       "    </tr>\n",
       "  </tbody>\n",
       "</table>\n",
       "<p>545 rows × 14 columns</p>\n",
       "</div>"
      ],
      "text/plain": [
       "        price  area  bedrooms  bathrooms  stories  parking  mainroad_yes  \\\n",
       "0    13300000  7420         4          2        3        2             1   \n",
       "1    12250000  8960         4          4        4        3             1   \n",
       "2    12250000  9960         3          2        2        2             1   \n",
       "3    12215000  7500         4          2        2        3             1   \n",
       "4    11410000  7420         4          1        2        2             1   \n",
       "..        ...   ...       ...        ...      ...      ...           ...   \n",
       "540   1820000  3000         2          1        1        2             1   \n",
       "541   1767150  2400         3          1        1        0             0   \n",
       "542   1750000  3620         2          1        1        0             1   \n",
       "543   1750000  2910         3          1        1        0             0   \n",
       "544   1750000  3850         3          1        2        0             1   \n",
       "\n",
       "     guestroom_yes  basement_yes  hotwaterheating_yes  airconditioning_yes  \\\n",
       "0                0             0                    0                    1   \n",
       "1                0             0                    0                    1   \n",
       "2                0             1                    0                    0   \n",
       "3                0             1                    0                    1   \n",
       "4                1             1                    0                    1   \n",
       "..             ...           ...                  ...                  ...   \n",
       "540              0             1                    0                    0   \n",
       "541              0             0                    0                    0   \n",
       "542              0             0                    0                    0   \n",
       "543              0             0                    0                    0   \n",
       "544              0             0                    0                    0   \n",
       "\n",
       "     prefarea_yes  furnishingstatus_semi-furnished  \\\n",
       "0               1                                0   \n",
       "1               0                                0   \n",
       "2               1                                1   \n",
       "3               1                                0   \n",
       "4               0                                0   \n",
       "..            ...                              ...   \n",
       "540             0                                0   \n",
       "541             0                                1   \n",
       "542             0                                0   \n",
       "543             0                                0   \n",
       "544             0                                0   \n",
       "\n",
       "     furnishingstatus_unfurnished  \n",
       "0                               0  \n",
       "1                               0  \n",
       "2                               0  \n",
       "3                               0  \n",
       "4                               0  \n",
       "..                            ...  \n",
       "540                             1  \n",
       "541                             0  \n",
       "542                             1  \n",
       "543                             0  \n",
       "544                             1  \n",
       "\n",
       "[545 rows x 14 columns]"
      ]
     },
     "execution_count": 33,
     "metadata": {},
     "output_type": "execute_result"
    }
   ],
   "source": [
    "lr_house_price = pd.get_dummies(lr_house_price, \n",
    "               drop_first=True, \n",
    "               columns=[\"mainroad\", \"guestroom\", \"basement\", \"hotwaterheating\", \"airconditioning\", \"prefarea\", \"furnishingstatus\"],\n",
    "               dtype=int)\n",
    "lr_house_price"
   ]
  },
  {
   "cell_type": "markdown",
   "id": "0a683437",
   "metadata": {},
   "source": [
    "接下来，我们要把因变量和自变量划分出来。\n",
    "\n",
    "因变量是`price`变量，因为我们进行线性回归的目的，是得到一个能根据其它可能对房屋价格有影响的变量，来预测销售价格的模型。"
   ]
  },
  {
   "cell_type": "code",
   "execution_count": 34,
   "id": "9f73b204",
   "metadata": {},
   "outputs": [],
   "source": [
    "y = lr_house_price[\"price\"]"
   ]
  },
  {
   "cell_type": "markdown",
   "id": "8f5b91f5",
   "metadata": {},
   "source": [
    "我们可以把除价格之外的都纳入自变量，但需要查看它们之间的相关性。如果其中有些变量之间相关性很高，会导致共线性。"
   ]
  },
  {
   "cell_type": "code",
   "execution_count": 35,
   "id": "e13395d0",
   "metadata": {},
   "outputs": [],
   "source": [
    "X = lr_house_price.drop(\"price\", axis=1)"
   ]
  },
  {
   "cell_type": "markdown",
   "id": "da744ba3",
   "metadata": {},
   "source": [
    "一般我们认为，当相关系数的绝对值大于0.8的时候，可能导致严重共线性，所以我们检查的时候，找绝对值大于0.8的值即可。"
   ]
  },
  {
   "cell_type": "code",
   "execution_count": 36,
   "id": "2b68bb90",
   "metadata": {},
   "outputs": [
    {
     "data": {
      "text/html": [
       "<div>\n",
       "<style scoped>\n",
       "    .dataframe tbody tr th:only-of-type {\n",
       "        vertical-align: middle;\n",
       "    }\n",
       "\n",
       "    .dataframe tbody tr th {\n",
       "        vertical-align: top;\n",
       "    }\n",
       "\n",
       "    .dataframe thead th {\n",
       "        text-align: right;\n",
       "    }\n",
       "</style>\n",
       "<table border=\"1\" class=\"dataframe\">\n",
       "  <thead>\n",
       "    <tr style=\"text-align: right;\">\n",
       "      <th></th>\n",
       "      <th>area</th>\n",
       "      <th>bedrooms</th>\n",
       "      <th>bathrooms</th>\n",
       "      <th>stories</th>\n",
       "      <th>parking</th>\n",
       "      <th>mainroad_yes</th>\n",
       "      <th>guestroom_yes</th>\n",
       "      <th>basement_yes</th>\n",
       "      <th>hotwaterheating_yes</th>\n",
       "      <th>airconditioning_yes</th>\n",
       "      <th>prefarea_yes</th>\n",
       "      <th>furnishingstatus_semi-furnished</th>\n",
       "      <th>furnishingstatus_unfurnished</th>\n",
       "    </tr>\n",
       "  </thead>\n",
       "  <tbody>\n",
       "    <tr>\n",
       "      <th>area</th>\n",
       "      <td>True</td>\n",
       "      <td>False</td>\n",
       "      <td>False</td>\n",
       "      <td>False</td>\n",
       "      <td>False</td>\n",
       "      <td>False</td>\n",
       "      <td>False</td>\n",
       "      <td>False</td>\n",
       "      <td>False</td>\n",
       "      <td>False</td>\n",
       "      <td>False</td>\n",
       "      <td>False</td>\n",
       "      <td>False</td>\n",
       "    </tr>\n",
       "    <tr>\n",
       "      <th>bedrooms</th>\n",
       "      <td>False</td>\n",
       "      <td>True</td>\n",
       "      <td>False</td>\n",
       "      <td>False</td>\n",
       "      <td>False</td>\n",
       "      <td>False</td>\n",
       "      <td>False</td>\n",
       "      <td>False</td>\n",
       "      <td>False</td>\n",
       "      <td>False</td>\n",
       "      <td>False</td>\n",
       "      <td>False</td>\n",
       "      <td>False</td>\n",
       "    </tr>\n",
       "    <tr>\n",
       "      <th>bathrooms</th>\n",
       "      <td>False</td>\n",
       "      <td>False</td>\n",
       "      <td>True</td>\n",
       "      <td>False</td>\n",
       "      <td>False</td>\n",
       "      <td>False</td>\n",
       "      <td>False</td>\n",
       "      <td>False</td>\n",
       "      <td>False</td>\n",
       "      <td>False</td>\n",
       "      <td>False</td>\n",
       "      <td>False</td>\n",
       "      <td>False</td>\n",
       "    </tr>\n",
       "    <tr>\n",
       "      <th>stories</th>\n",
       "      <td>False</td>\n",
       "      <td>False</td>\n",
       "      <td>False</td>\n",
       "      <td>True</td>\n",
       "      <td>False</td>\n",
       "      <td>False</td>\n",
       "      <td>False</td>\n",
       "      <td>False</td>\n",
       "      <td>False</td>\n",
       "      <td>False</td>\n",
       "      <td>False</td>\n",
       "      <td>False</td>\n",
       "      <td>False</td>\n",
       "    </tr>\n",
       "    <tr>\n",
       "      <th>parking</th>\n",
       "      <td>False</td>\n",
       "      <td>False</td>\n",
       "      <td>False</td>\n",
       "      <td>False</td>\n",
       "      <td>True</td>\n",
       "      <td>False</td>\n",
       "      <td>False</td>\n",
       "      <td>False</td>\n",
       "      <td>False</td>\n",
       "      <td>False</td>\n",
       "      <td>False</td>\n",
       "      <td>False</td>\n",
       "      <td>False</td>\n",
       "    </tr>\n",
       "    <tr>\n",
       "      <th>mainroad_yes</th>\n",
       "      <td>False</td>\n",
       "      <td>False</td>\n",
       "      <td>False</td>\n",
       "      <td>False</td>\n",
       "      <td>False</td>\n",
       "      <td>True</td>\n",
       "      <td>False</td>\n",
       "      <td>False</td>\n",
       "      <td>False</td>\n",
       "      <td>False</td>\n",
       "      <td>False</td>\n",
       "      <td>False</td>\n",
       "      <td>False</td>\n",
       "    </tr>\n",
       "    <tr>\n",
       "      <th>guestroom_yes</th>\n",
       "      <td>False</td>\n",
       "      <td>False</td>\n",
       "      <td>False</td>\n",
       "      <td>False</td>\n",
       "      <td>False</td>\n",
       "      <td>False</td>\n",
       "      <td>True</td>\n",
       "      <td>False</td>\n",
       "      <td>False</td>\n",
       "      <td>False</td>\n",
       "      <td>False</td>\n",
       "      <td>False</td>\n",
       "      <td>False</td>\n",
       "    </tr>\n",
       "    <tr>\n",
       "      <th>basement_yes</th>\n",
       "      <td>False</td>\n",
       "      <td>False</td>\n",
       "      <td>False</td>\n",
       "      <td>False</td>\n",
       "      <td>False</td>\n",
       "      <td>False</td>\n",
       "      <td>False</td>\n",
       "      <td>True</td>\n",
       "      <td>False</td>\n",
       "      <td>False</td>\n",
       "      <td>False</td>\n",
       "      <td>False</td>\n",
       "      <td>False</td>\n",
       "    </tr>\n",
       "    <tr>\n",
       "      <th>hotwaterheating_yes</th>\n",
       "      <td>False</td>\n",
       "      <td>False</td>\n",
       "      <td>False</td>\n",
       "      <td>False</td>\n",
       "      <td>False</td>\n",
       "      <td>False</td>\n",
       "      <td>False</td>\n",
       "      <td>False</td>\n",
       "      <td>True</td>\n",
       "      <td>False</td>\n",
       "      <td>False</td>\n",
       "      <td>False</td>\n",
       "      <td>False</td>\n",
       "    </tr>\n",
       "    <tr>\n",
       "      <th>airconditioning_yes</th>\n",
       "      <td>False</td>\n",
       "      <td>False</td>\n",
       "      <td>False</td>\n",
       "      <td>False</td>\n",
       "      <td>False</td>\n",
       "      <td>False</td>\n",
       "      <td>False</td>\n",
       "      <td>False</td>\n",
       "      <td>False</td>\n",
       "      <td>True</td>\n",
       "      <td>False</td>\n",
       "      <td>False</td>\n",
       "      <td>False</td>\n",
       "    </tr>\n",
       "    <tr>\n",
       "      <th>prefarea_yes</th>\n",
       "      <td>False</td>\n",
       "      <td>False</td>\n",
       "      <td>False</td>\n",
       "      <td>False</td>\n",
       "      <td>False</td>\n",
       "      <td>False</td>\n",
       "      <td>False</td>\n",
       "      <td>False</td>\n",
       "      <td>False</td>\n",
       "      <td>False</td>\n",
       "      <td>True</td>\n",
       "      <td>False</td>\n",
       "      <td>False</td>\n",
       "    </tr>\n",
       "    <tr>\n",
       "      <th>furnishingstatus_semi-furnished</th>\n",
       "      <td>False</td>\n",
       "      <td>False</td>\n",
       "      <td>False</td>\n",
       "      <td>False</td>\n",
       "      <td>False</td>\n",
       "      <td>False</td>\n",
       "      <td>False</td>\n",
       "      <td>False</td>\n",
       "      <td>False</td>\n",
       "      <td>False</td>\n",
       "      <td>False</td>\n",
       "      <td>True</td>\n",
       "      <td>False</td>\n",
       "    </tr>\n",
       "    <tr>\n",
       "      <th>furnishingstatus_unfurnished</th>\n",
       "      <td>False</td>\n",
       "      <td>False</td>\n",
       "      <td>False</td>\n",
       "      <td>False</td>\n",
       "      <td>False</td>\n",
       "      <td>False</td>\n",
       "      <td>False</td>\n",
       "      <td>False</td>\n",
       "      <td>False</td>\n",
       "      <td>False</td>\n",
       "      <td>False</td>\n",
       "      <td>False</td>\n",
       "      <td>True</td>\n",
       "    </tr>\n",
       "  </tbody>\n",
       "</table>\n",
       "</div>"
      ],
      "text/plain": [
       "                                  area  bedrooms  bathrooms  stories  parking  \\\n",
       "area                              True     False      False    False    False   \n",
       "bedrooms                         False      True      False    False    False   \n",
       "bathrooms                        False     False       True    False    False   \n",
       "stories                          False     False      False     True    False   \n",
       "parking                          False     False      False    False     True   \n",
       "mainroad_yes                     False     False      False    False    False   \n",
       "guestroom_yes                    False     False      False    False    False   \n",
       "basement_yes                     False     False      False    False    False   \n",
       "hotwaterheating_yes              False     False      False    False    False   \n",
       "airconditioning_yes              False     False      False    False    False   \n",
       "prefarea_yes                     False     False      False    False    False   \n",
       "furnishingstatus_semi-furnished  False     False      False    False    False   \n",
       "furnishingstatus_unfurnished     False     False      False    False    False   \n",
       "\n",
       "                                 mainroad_yes  guestroom_yes  basement_yes  \\\n",
       "area                                    False          False         False   \n",
       "bedrooms                                False          False         False   \n",
       "bathrooms                               False          False         False   \n",
       "stories                                 False          False         False   \n",
       "parking                                 False          False         False   \n",
       "mainroad_yes                             True          False         False   \n",
       "guestroom_yes                           False           True         False   \n",
       "basement_yes                            False          False          True   \n",
       "hotwaterheating_yes                     False          False         False   \n",
       "airconditioning_yes                     False          False         False   \n",
       "prefarea_yes                            False          False         False   \n",
       "furnishingstatus_semi-furnished         False          False         False   \n",
       "furnishingstatus_unfurnished            False          False         False   \n",
       "\n",
       "                                 hotwaterheating_yes  airconditioning_yes  \\\n",
       "area                                           False                False   \n",
       "bedrooms                                       False                False   \n",
       "bathrooms                                      False                False   \n",
       "stories                                        False                False   \n",
       "parking                                        False                False   \n",
       "mainroad_yes                                   False                False   \n",
       "guestroom_yes                                  False                False   \n",
       "basement_yes                                   False                False   \n",
       "hotwaterheating_yes                             True                False   \n",
       "airconditioning_yes                            False                 True   \n",
       "prefarea_yes                                   False                False   \n",
       "furnishingstatus_semi-furnished                False                False   \n",
       "furnishingstatus_unfurnished                   False                False   \n",
       "\n",
       "                                 prefarea_yes  \\\n",
       "area                                    False   \n",
       "bedrooms                                False   \n",
       "bathrooms                               False   \n",
       "stories                                 False   \n",
       "parking                                 False   \n",
       "mainroad_yes                            False   \n",
       "guestroom_yes                           False   \n",
       "basement_yes                            False   \n",
       "hotwaterheating_yes                     False   \n",
       "airconditioning_yes                     False   \n",
       "prefarea_yes                             True   \n",
       "furnishingstatus_semi-furnished         False   \n",
       "furnishingstatus_unfurnished            False   \n",
       "\n",
       "                                 furnishingstatus_semi-furnished  \\\n",
       "area                                                       False   \n",
       "bedrooms                                                   False   \n",
       "bathrooms                                                  False   \n",
       "stories                                                    False   \n",
       "parking                                                    False   \n",
       "mainroad_yes                                               False   \n",
       "guestroom_yes                                              False   \n",
       "basement_yes                                               False   \n",
       "hotwaterheating_yes                                        False   \n",
       "airconditioning_yes                                        False   \n",
       "prefarea_yes                                               False   \n",
       "furnishingstatus_semi-furnished                             True   \n",
       "furnishingstatus_unfurnished                               False   \n",
       "\n",
       "                                 furnishingstatus_unfurnished  \n",
       "area                                                    False  \n",
       "bedrooms                                                False  \n",
       "bathrooms                                               False  \n",
       "stories                                                 False  \n",
       "parking                                                 False  \n",
       "mainroad_yes                                            False  \n",
       "guestroom_yes                                           False  \n",
       "basement_yes                                            False  \n",
       "hotwaterheating_yes                                     False  \n",
       "airconditioning_yes                                     False  \n",
       "prefarea_yes                                            False  \n",
       "furnishingstatus_semi-furnished                         False  \n",
       "furnishingstatus_unfurnished                             True  "
      ]
     },
     "execution_count": 36,
     "metadata": {},
     "output_type": "execute_result"
    }
   ],
   "source": [
    "X.corr().abs() > 0.8"
   ]
  },
  {
   "cell_type": "markdown",
   "id": "e037ef0b",
   "metadata": {},
   "source": [
    "从以上输出来看，不同变量之间相关系数的绝对值均小于或等于0.8。"
   ]
  },
  {
   "cell_type": "markdown",
   "id": "5f907d65",
   "metadata": {},
   "source": [
    "接下来，给模型的线性方程添加截距。"
   ]
  },
  {
   "cell_type": "code",
   "execution_count": 37,
   "id": "aafb7d99",
   "metadata": {},
   "outputs": [
    {
     "data": {
      "text/html": [
       "<div>\n",
       "<style scoped>\n",
       "    .dataframe tbody tr th:only-of-type {\n",
       "        vertical-align: middle;\n",
       "    }\n",
       "\n",
       "    .dataframe tbody tr th {\n",
       "        vertical-align: top;\n",
       "    }\n",
       "\n",
       "    .dataframe thead th {\n",
       "        text-align: right;\n",
       "    }\n",
       "</style>\n",
       "<table border=\"1\" class=\"dataframe\">\n",
       "  <thead>\n",
       "    <tr style=\"text-align: right;\">\n",
       "      <th></th>\n",
       "      <th>const</th>\n",
       "      <th>area</th>\n",
       "      <th>bedrooms</th>\n",
       "      <th>bathrooms</th>\n",
       "      <th>stories</th>\n",
       "      <th>parking</th>\n",
       "      <th>mainroad_yes</th>\n",
       "      <th>guestroom_yes</th>\n",
       "      <th>basement_yes</th>\n",
       "      <th>hotwaterheating_yes</th>\n",
       "      <th>airconditioning_yes</th>\n",
       "      <th>prefarea_yes</th>\n",
       "      <th>furnishingstatus_semi-furnished</th>\n",
       "      <th>furnishingstatus_unfurnished</th>\n",
       "    </tr>\n",
       "  </thead>\n",
       "  <tbody>\n",
       "    <tr>\n",
       "      <th>0</th>\n",
       "      <td>1.0</td>\n",
       "      <td>7420</td>\n",
       "      <td>4</td>\n",
       "      <td>2</td>\n",
       "      <td>3</td>\n",
       "      <td>2</td>\n",
       "      <td>1</td>\n",
       "      <td>0</td>\n",
       "      <td>0</td>\n",
       "      <td>0</td>\n",
       "      <td>1</td>\n",
       "      <td>1</td>\n",
       "      <td>0</td>\n",
       "      <td>0</td>\n",
       "    </tr>\n",
       "    <tr>\n",
       "      <th>1</th>\n",
       "      <td>1.0</td>\n",
       "      <td>8960</td>\n",
       "      <td>4</td>\n",
       "      <td>4</td>\n",
       "      <td>4</td>\n",
       "      <td>3</td>\n",
       "      <td>1</td>\n",
       "      <td>0</td>\n",
       "      <td>0</td>\n",
       "      <td>0</td>\n",
       "      <td>1</td>\n",
       "      <td>0</td>\n",
       "      <td>0</td>\n",
       "      <td>0</td>\n",
       "    </tr>\n",
       "    <tr>\n",
       "      <th>2</th>\n",
       "      <td>1.0</td>\n",
       "      <td>9960</td>\n",
       "      <td>3</td>\n",
       "      <td>2</td>\n",
       "      <td>2</td>\n",
       "      <td>2</td>\n",
       "      <td>1</td>\n",
       "      <td>0</td>\n",
       "      <td>1</td>\n",
       "      <td>0</td>\n",
       "      <td>0</td>\n",
       "      <td>1</td>\n",
       "      <td>1</td>\n",
       "      <td>0</td>\n",
       "    </tr>\n",
       "    <tr>\n",
       "      <th>3</th>\n",
       "      <td>1.0</td>\n",
       "      <td>7500</td>\n",
       "      <td>4</td>\n",
       "      <td>2</td>\n",
       "      <td>2</td>\n",
       "      <td>3</td>\n",
       "      <td>1</td>\n",
       "      <td>0</td>\n",
       "      <td>1</td>\n",
       "      <td>0</td>\n",
       "      <td>1</td>\n",
       "      <td>1</td>\n",
       "      <td>0</td>\n",
       "      <td>0</td>\n",
       "    </tr>\n",
       "    <tr>\n",
       "      <th>4</th>\n",
       "      <td>1.0</td>\n",
       "      <td>7420</td>\n",
       "      <td>4</td>\n",
       "      <td>1</td>\n",
       "      <td>2</td>\n",
       "      <td>2</td>\n",
       "      <td>1</td>\n",
       "      <td>1</td>\n",
       "      <td>1</td>\n",
       "      <td>0</td>\n",
       "      <td>1</td>\n",
       "      <td>0</td>\n",
       "      <td>0</td>\n",
       "      <td>0</td>\n",
       "    </tr>\n",
       "    <tr>\n",
       "      <th>...</th>\n",
       "      <td>...</td>\n",
       "      <td>...</td>\n",
       "      <td>...</td>\n",
       "      <td>...</td>\n",
       "      <td>...</td>\n",
       "      <td>...</td>\n",
       "      <td>...</td>\n",
       "      <td>...</td>\n",
       "      <td>...</td>\n",
       "      <td>...</td>\n",
       "      <td>...</td>\n",
       "      <td>...</td>\n",
       "      <td>...</td>\n",
       "      <td>...</td>\n",
       "    </tr>\n",
       "    <tr>\n",
       "      <th>540</th>\n",
       "      <td>1.0</td>\n",
       "      <td>3000</td>\n",
       "      <td>2</td>\n",
       "      <td>1</td>\n",
       "      <td>1</td>\n",
       "      <td>2</td>\n",
       "      <td>1</td>\n",
       "      <td>0</td>\n",
       "      <td>1</td>\n",
       "      <td>0</td>\n",
       "      <td>0</td>\n",
       "      <td>0</td>\n",
       "      <td>0</td>\n",
       "      <td>1</td>\n",
       "    </tr>\n",
       "    <tr>\n",
       "      <th>541</th>\n",
       "      <td>1.0</td>\n",
       "      <td>2400</td>\n",
       "      <td>3</td>\n",
       "      <td>1</td>\n",
       "      <td>1</td>\n",
       "      <td>0</td>\n",
       "      <td>0</td>\n",
       "      <td>0</td>\n",
       "      <td>0</td>\n",
       "      <td>0</td>\n",
       "      <td>0</td>\n",
       "      <td>0</td>\n",
       "      <td>1</td>\n",
       "      <td>0</td>\n",
       "    </tr>\n",
       "    <tr>\n",
       "      <th>542</th>\n",
       "      <td>1.0</td>\n",
       "      <td>3620</td>\n",
       "      <td>2</td>\n",
       "      <td>1</td>\n",
       "      <td>1</td>\n",
       "      <td>0</td>\n",
       "      <td>1</td>\n",
       "      <td>0</td>\n",
       "      <td>0</td>\n",
       "      <td>0</td>\n",
       "      <td>0</td>\n",
       "      <td>0</td>\n",
       "      <td>0</td>\n",
       "      <td>1</td>\n",
       "    </tr>\n",
       "    <tr>\n",
       "      <th>543</th>\n",
       "      <td>1.0</td>\n",
       "      <td>2910</td>\n",
       "      <td>3</td>\n",
       "      <td>1</td>\n",
       "      <td>1</td>\n",
       "      <td>0</td>\n",
       "      <td>0</td>\n",
       "      <td>0</td>\n",
       "      <td>0</td>\n",
       "      <td>0</td>\n",
       "      <td>0</td>\n",
       "      <td>0</td>\n",
       "      <td>0</td>\n",
       "      <td>0</td>\n",
       "    </tr>\n",
       "    <tr>\n",
       "      <th>544</th>\n",
       "      <td>1.0</td>\n",
       "      <td>3850</td>\n",
       "      <td>3</td>\n",
       "      <td>1</td>\n",
       "      <td>2</td>\n",
       "      <td>0</td>\n",
       "      <td>1</td>\n",
       "      <td>0</td>\n",
       "      <td>0</td>\n",
       "      <td>0</td>\n",
       "      <td>0</td>\n",
       "      <td>0</td>\n",
       "      <td>0</td>\n",
       "      <td>1</td>\n",
       "    </tr>\n",
       "  </tbody>\n",
       "</table>\n",
       "<p>545 rows × 14 columns</p>\n",
       "</div>"
      ],
      "text/plain": [
       "     const  area  bedrooms  bathrooms  stories  parking  mainroad_yes  \\\n",
       "0      1.0  7420         4          2        3        2             1   \n",
       "1      1.0  8960         4          4        4        3             1   \n",
       "2      1.0  9960         3          2        2        2             1   \n",
       "3      1.0  7500         4          2        2        3             1   \n",
       "4      1.0  7420         4          1        2        2             1   \n",
       "..     ...   ...       ...        ...      ...      ...           ...   \n",
       "540    1.0  3000         2          1        1        2             1   \n",
       "541    1.0  2400         3          1        1        0             0   \n",
       "542    1.0  3620         2          1        1        0             1   \n",
       "543    1.0  2910         3          1        1        0             0   \n",
       "544    1.0  3850         3          1        2        0             1   \n",
       "\n",
       "     guestroom_yes  basement_yes  hotwaterheating_yes  airconditioning_yes  \\\n",
       "0                0             0                    0                    1   \n",
       "1                0             0                    0                    1   \n",
       "2                0             1                    0                    0   \n",
       "3                0             1                    0                    1   \n",
       "4                1             1                    0                    1   \n",
       "..             ...           ...                  ...                  ...   \n",
       "540              0             1                    0                    0   \n",
       "541              0             0                    0                    0   \n",
       "542              0             0                    0                    0   \n",
       "543              0             0                    0                    0   \n",
       "544              0             0                    0                    0   \n",
       "\n",
       "     prefarea_yes  furnishingstatus_semi-furnished  \\\n",
       "0               1                                0   \n",
       "1               0                                0   \n",
       "2               1                                1   \n",
       "3               1                                0   \n",
       "4               0                                0   \n",
       "..            ...                              ...   \n",
       "540             0                                0   \n",
       "541             0                                1   \n",
       "542             0                                0   \n",
       "543             0                                0   \n",
       "544             0                                0   \n",
       "\n",
       "     furnishingstatus_unfurnished  \n",
       "0                               0  \n",
       "1                               0  \n",
       "2                               0  \n",
       "3                               0  \n",
       "4                               0  \n",
       "..                            ...  \n",
       "540                             1  \n",
       "541                             0  \n",
       "542                             1  \n",
       "543                             0  \n",
       "544                             1  \n",
       "\n",
       "[545 rows x 14 columns]"
      ]
     },
     "execution_count": 37,
     "metadata": {},
     "output_type": "execute_result"
    }
   ],
   "source": [
    "X = sm.add_constant(X)\n",
    "X"
   ]
  },
  {
   "cell_type": "markdown",
   "id": "dec888d4",
   "metadata": {},
   "source": [
    "下一步就可以调用OLS函数，利用最小二乘法来得到线性回归模型的参数值。"
   ]
  },
  {
   "cell_type": "code",
   "execution_count": 38,
   "id": "d42ff7d3",
   "metadata": {},
   "outputs": [],
   "source": [
    "model = sm.OLS(y, X).fit()"
   ]
  },
  {
   "cell_type": "markdown",
   "id": "0105d9f3",
   "metadata": {},
   "source": [
    "为了查看模型结果，我们使用`summary`方法来获得总结信息。"
   ]
  },
  {
   "cell_type": "code",
   "execution_count": 39,
   "id": "34536bf1",
   "metadata": {},
   "outputs": [
    {
     "data": {
      "text/html": [
       "<table class=\"simpletable\">\n",
       "<caption>OLS Regression Results</caption>\n",
       "<tr>\n",
       "  <th>Dep. Variable:</th>          <td>price</td>      <th>  R-squared:         </th> <td>   0.682</td> \n",
       "</tr>\n",
       "<tr>\n",
       "  <th>Model:</th>                   <td>OLS</td>       <th>  Adj. R-squared:    </th> <td>   0.674</td> \n",
       "</tr>\n",
       "<tr>\n",
       "  <th>Method:</th>             <td>Least Squares</td>  <th>  F-statistic:       </th> <td>   87.52</td> \n",
       "</tr>\n",
       "<tr>\n",
       "  <th>Date:</th>             <td>Sat, 24 Feb 2024</td> <th>  Prob (F-statistic):</th> <td>9.07e-123</td>\n",
       "</tr>\n",
       "<tr>\n",
       "  <th>Time:</th>                 <td>18:15:06</td>     <th>  Log-Likelihood:    </th> <td> -8331.5</td> \n",
       "</tr>\n",
       "<tr>\n",
       "  <th>No. Observations:</th>      <td>   545</td>      <th>  AIC:               </th> <td>1.669e+04</td>\n",
       "</tr>\n",
       "<tr>\n",
       "  <th>Df Residuals:</th>          <td>   531</td>      <th>  BIC:               </th> <td>1.675e+04</td>\n",
       "</tr>\n",
       "<tr>\n",
       "  <th>Df Model:</th>              <td>    13</td>      <th>                     </th>     <td> </td>    \n",
       "</tr>\n",
       "<tr>\n",
       "  <th>Covariance Type:</th>      <td>nonrobust</td>    <th>                     </th>     <td> </td>    \n",
       "</tr>\n",
       "</table>\n",
       "<table class=\"simpletable\">\n",
       "<tr>\n",
       "                 <td></td>                    <th>coef</th>     <th>std err</th>      <th>t</th>      <th>P>|t|</th>  <th>[0.025</th>    <th>0.975]</th>  \n",
       "</tr>\n",
       "<tr>\n",
       "  <th>const</th>                           <td> 4.277e+04</td> <td> 2.64e+05</td> <td>    0.162</td> <td> 0.872</td> <td>-4.76e+05</td> <td> 5.62e+05</td>\n",
       "</tr>\n",
       "<tr>\n",
       "  <th>area</th>                            <td>  244.1394</td> <td>   24.289</td> <td>   10.052</td> <td> 0.000</td> <td>  196.425</td> <td>  291.853</td>\n",
       "</tr>\n",
       "<tr>\n",
       "  <th>bedrooms</th>                        <td> 1.148e+05</td> <td> 7.26e+04</td> <td>    1.581</td> <td> 0.114</td> <td>-2.78e+04</td> <td> 2.57e+05</td>\n",
       "</tr>\n",
       "<tr>\n",
       "  <th>bathrooms</th>                       <td> 9.877e+05</td> <td> 1.03e+05</td> <td>    9.555</td> <td> 0.000</td> <td> 7.85e+05</td> <td> 1.19e+06</td>\n",
       "</tr>\n",
       "<tr>\n",
       "  <th>stories</th>                         <td> 4.508e+05</td> <td> 6.42e+04</td> <td>    7.026</td> <td> 0.000</td> <td> 3.25e+05</td> <td> 5.77e+05</td>\n",
       "</tr>\n",
       "<tr>\n",
       "  <th>parking</th>                         <td> 2.771e+05</td> <td> 5.85e+04</td> <td>    4.735</td> <td> 0.000</td> <td> 1.62e+05</td> <td> 3.92e+05</td>\n",
       "</tr>\n",
       "<tr>\n",
       "  <th>mainroad_yes</th>                    <td> 4.213e+05</td> <td> 1.42e+05</td> <td>    2.962</td> <td> 0.003</td> <td> 1.42e+05</td> <td> 7.01e+05</td>\n",
       "</tr>\n",
       "<tr>\n",
       "  <th>guestroom_yes</th>                   <td> 3.005e+05</td> <td> 1.32e+05</td> <td>    2.282</td> <td> 0.023</td> <td> 4.18e+04</td> <td> 5.59e+05</td>\n",
       "</tr>\n",
       "<tr>\n",
       "  <th>basement_yes</th>                    <td> 3.501e+05</td> <td>  1.1e+05</td> <td>    3.175</td> <td> 0.002</td> <td> 1.33e+05</td> <td> 5.67e+05</td>\n",
       "</tr>\n",
       "<tr>\n",
       "  <th>hotwaterheating_yes</th>             <td> 8.554e+05</td> <td> 2.23e+05</td> <td>    3.833</td> <td> 0.000</td> <td> 4.17e+05</td> <td> 1.29e+06</td>\n",
       "</tr>\n",
       "<tr>\n",
       "  <th>airconditioning_yes</th>             <td>  8.65e+05</td> <td> 1.08e+05</td> <td>    7.983</td> <td> 0.000</td> <td> 6.52e+05</td> <td> 1.08e+06</td>\n",
       "</tr>\n",
       "<tr>\n",
       "  <th>prefarea_yes</th>                    <td> 6.515e+05</td> <td> 1.16e+05</td> <td>    5.632</td> <td> 0.000</td> <td> 4.24e+05</td> <td> 8.79e+05</td>\n",
       "</tr>\n",
       "<tr>\n",
       "  <th>furnishingstatus_semi-furnished</th> <td>-4.634e+04</td> <td> 1.17e+05</td> <td>   -0.398</td> <td> 0.691</td> <td>-2.75e+05</td> <td> 1.83e+05</td>\n",
       "</tr>\n",
       "<tr>\n",
       "  <th>furnishingstatus_unfurnished</th>    <td>-4.112e+05</td> <td> 1.26e+05</td> <td>   -3.258</td> <td> 0.001</td> <td>-6.59e+05</td> <td>-1.63e+05</td>\n",
       "</tr>\n",
       "</table>\n",
       "<table class=\"simpletable\">\n",
       "<tr>\n",
       "  <th>Omnibus:</th>       <td>97.909</td> <th>  Durbin-Watson:     </th> <td>   1.209</td>\n",
       "</tr>\n",
       "<tr>\n",
       "  <th>Prob(Omnibus):</th> <td> 0.000</td> <th>  Jarque-Bera (JB):  </th> <td> 258.281</td>\n",
       "</tr>\n",
       "<tr>\n",
       "  <th>Skew:</th>          <td> 0.895</td> <th>  Prob(JB):          </th> <td>8.22e-57</td>\n",
       "</tr>\n",
       "<tr>\n",
       "  <th>Kurtosis:</th>      <td> 5.859</td> <th>  Cond. No.          </th> <td>3.49e+04</td>\n",
       "</tr>\n",
       "</table><br/><br/>Notes:<br/>[1] Standard Errors assume that the covariance matrix of the errors is correctly specified.<br/>[2] The condition number is large, 3.49e+04. This might indicate that there are<br/>strong multicollinearity or other numerical problems."
      ],
      "text/plain": [
       "<class 'statsmodels.iolib.summary.Summary'>\n",
       "\"\"\"\n",
       "                            OLS Regression Results                            \n",
       "==============================================================================\n",
       "Dep. Variable:                  price   R-squared:                       0.682\n",
       "Model:                            OLS   Adj. R-squared:                  0.674\n",
       "Method:                 Least Squares   F-statistic:                     87.52\n",
       "Date:                Sat, 24 Feb 2024   Prob (F-statistic):          9.07e-123\n",
       "Time:                        18:15:06   Log-Likelihood:                -8331.5\n",
       "No. Observations:                 545   AIC:                         1.669e+04\n",
       "Df Residuals:                     531   BIC:                         1.675e+04\n",
       "Df Model:                          13                                         \n",
       "Covariance Type:            nonrobust                                         \n",
       "===================================================================================================\n",
       "                                      coef    std err          t      P>|t|      [0.025      0.975]\n",
       "---------------------------------------------------------------------------------------------------\n",
       "const                            4.277e+04   2.64e+05      0.162      0.872   -4.76e+05    5.62e+05\n",
       "area                              244.1394     24.289     10.052      0.000     196.425     291.853\n",
       "bedrooms                         1.148e+05   7.26e+04      1.581      0.114   -2.78e+04    2.57e+05\n",
       "bathrooms                        9.877e+05   1.03e+05      9.555      0.000    7.85e+05    1.19e+06\n",
       "stories                          4.508e+05   6.42e+04      7.026      0.000    3.25e+05    5.77e+05\n",
       "parking                          2.771e+05   5.85e+04      4.735      0.000    1.62e+05    3.92e+05\n",
       "mainroad_yes                     4.213e+05   1.42e+05      2.962      0.003    1.42e+05    7.01e+05\n",
       "guestroom_yes                    3.005e+05   1.32e+05      2.282      0.023    4.18e+04    5.59e+05\n",
       "basement_yes                     3.501e+05    1.1e+05      3.175      0.002    1.33e+05    5.67e+05\n",
       "hotwaterheating_yes              8.554e+05   2.23e+05      3.833      0.000    4.17e+05    1.29e+06\n",
       "airconditioning_yes               8.65e+05   1.08e+05      7.983      0.000    6.52e+05    1.08e+06\n",
       "prefarea_yes                     6.515e+05   1.16e+05      5.632      0.000    4.24e+05    8.79e+05\n",
       "furnishingstatus_semi-furnished -4.634e+04   1.17e+05     -0.398      0.691   -2.75e+05    1.83e+05\n",
       "furnishingstatus_unfurnished    -4.112e+05   1.26e+05     -3.258      0.001   -6.59e+05   -1.63e+05\n",
       "==============================================================================\n",
       "Omnibus:                       97.909   Durbin-Watson:                   1.209\n",
       "Prob(Omnibus):                  0.000   Jarque-Bera (JB):              258.281\n",
       "Skew:                           0.895   Prob(JB):                     8.22e-57\n",
       "Kurtosis:                       5.859   Cond. No.                     3.49e+04\n",
       "==============================================================================\n",
       "\n",
       "Notes:\n",
       "[1] Standard Errors assume that the covariance matrix of the errors is correctly specified.\n",
       "[2] The condition number is large, 3.49e+04. This might indicate that there are\n",
       "strong multicollinearity or other numerical problems.\n",
       "\"\"\""
      ]
     },
     "execution_count": 39,
     "metadata": {},
     "output_type": "execute_result"
    }
   ],
   "source": [
    "model.summary()"
   ]
  },
  {
   "cell_type": "markdown",
   "id": "2d219cef",
   "metadata": {},
   "source": [
    "当我们把显著区间设定为0.05时，以上结果的P值可以看出，模型认为以下因素对房屋价格没有显著性影响：卧室数、是否为简装房。此外，常数（表示线性方程的截距）的P值也很大，说明也没有显著影响。\n",
    "\n",
    "可以把这些变量移除后，再次建立线性回归模型。"
   ]
  },
  {
   "cell_type": "code",
   "execution_count": 40,
   "id": "15c5221f",
   "metadata": {},
   "outputs": [],
   "source": [
    "X = X.drop([\"const\",  \"bedrooms\", \"furnishingstatus_semi-furnished\"], axis=1)"
   ]
  },
  {
   "cell_type": "code",
   "execution_count": 41,
   "id": "4ac3c886",
   "metadata": {},
   "outputs": [
    {
     "data": {
      "text/html": [
       "<table class=\"simpletable\">\n",
       "<caption>OLS Regression Results</caption>\n",
       "<tr>\n",
       "  <th>Dep. Variable:</th>          <td>price</td>      <th>  R-squared (uncentered):</th>      <td>   0.957</td> \n",
       "</tr>\n",
       "<tr>\n",
       "  <th>Model:</th>                   <td>OLS</td>       <th>  Adj. R-squared (uncentered):</th> <td>   0.956</td> \n",
       "</tr>\n",
       "<tr>\n",
       "  <th>Method:</th>             <td>Least Squares</td>  <th>  F-statistic:       </th>          <td>   1088.</td> \n",
       "</tr>\n",
       "<tr>\n",
       "  <th>Date:</th>             <td>Sat, 24 Feb 2024</td> <th>  Prob (F-statistic):</th>           <td>  0.00</td>  \n",
       "</tr>\n",
       "<tr>\n",
       "  <th>Time:</th>                 <td>18:15:06</td>     <th>  Log-Likelihood:    </th>          <td> -8333.5</td> \n",
       "</tr>\n",
       "<tr>\n",
       "  <th>No. Observations:</th>      <td>   545</td>      <th>  AIC:               </th>          <td>1.669e+04</td>\n",
       "</tr>\n",
       "<tr>\n",
       "  <th>Df Residuals:</th>          <td>   534</td>      <th>  BIC:               </th>          <td>1.674e+04</td>\n",
       "</tr>\n",
       "<tr>\n",
       "  <th>Df Model:</th>              <td>    11</td>      <th>                     </th>              <td> </td>    \n",
       "</tr>\n",
       "<tr>\n",
       "  <th>Covariance Type:</th>      <td>nonrobust</td>    <th>                     </th>              <td> </td>    \n",
       "</tr>\n",
       "</table>\n",
       "<table class=\"simpletable\">\n",
       "<tr>\n",
       "                <td></td>                  <th>coef</th>     <th>std err</th>      <th>t</th>      <th>P>|t|</th>  <th>[0.025</th>    <th>0.975]</th>  \n",
       "</tr>\n",
       "<tr>\n",
       "  <th>area</th>                         <td>  257.5854</td> <td>   22.577</td> <td>   11.409</td> <td> 0.000</td> <td>  213.234</td> <td>  301.936</td>\n",
       "</tr>\n",
       "<tr>\n",
       "  <th>bathrooms</th>                    <td> 1.071e+06</td> <td> 9.27e+04</td> <td>   11.553</td> <td> 0.000</td> <td> 8.89e+05</td> <td> 1.25e+06</td>\n",
       "</tr>\n",
       "<tr>\n",
       "  <th>stories</th>                      <td> 5.084e+05</td> <td> 5.71e+04</td> <td>    8.898</td> <td> 0.000</td> <td> 3.96e+05</td> <td> 6.21e+05</td>\n",
       "</tr>\n",
       "<tr>\n",
       "  <th>parking</th>                      <td> 2.793e+05</td> <td> 5.83e+04</td> <td>    4.794</td> <td> 0.000</td> <td> 1.65e+05</td> <td> 3.94e+05</td>\n",
       "</tr>\n",
       "<tr>\n",
       "  <th>mainroad_yes</th>                 <td> 4.672e+05</td> <td> 1.27e+05</td> <td>    3.679</td> <td> 0.000</td> <td> 2.18e+05</td> <td> 7.17e+05</td>\n",
       "</tr>\n",
       "<tr>\n",
       "  <th>guestroom_yes</th>                <td> 2.851e+05</td> <td> 1.31e+05</td> <td>    2.172</td> <td> 0.030</td> <td> 2.72e+04</td> <td> 5.43e+05</td>\n",
       "</tr>\n",
       "<tr>\n",
       "  <th>basement_yes</th>                 <td> 4.016e+05</td> <td> 1.07e+05</td> <td>    3.765</td> <td> 0.000</td> <td> 1.92e+05</td> <td> 6.11e+05</td>\n",
       "</tr>\n",
       "<tr>\n",
       "  <th>hotwaterheating_yes</th>          <td> 8.668e+05</td> <td> 2.23e+05</td> <td>    3.884</td> <td> 0.000</td> <td> 4.28e+05</td> <td> 1.31e+06</td>\n",
       "</tr>\n",
       "<tr>\n",
       "  <th>airconditioning_yes</th>          <td> 8.543e+05</td> <td> 1.07e+05</td> <td>    7.952</td> <td> 0.000</td> <td> 6.43e+05</td> <td> 1.07e+06</td>\n",
       "</tr>\n",
       "<tr>\n",
       "  <th>prefarea_yes</th>                 <td> 6.443e+05</td> <td> 1.15e+05</td> <td>    5.594</td> <td> 0.000</td> <td> 4.18e+05</td> <td> 8.71e+05</td>\n",
       "</tr>\n",
       "<tr>\n",
       "  <th>furnishingstatus_unfurnished</th> <td>-3.493e+05</td> <td> 9.49e+04</td> <td>   -3.679</td> <td> 0.000</td> <td>-5.36e+05</td> <td>-1.63e+05</td>\n",
       "</tr>\n",
       "</table>\n",
       "<table class=\"simpletable\">\n",
       "<tr>\n",
       "  <th>Omnibus:</th>       <td>94.840</td> <th>  Durbin-Watson:     </th> <td>   1.262</td>\n",
       "</tr>\n",
       "<tr>\n",
       "  <th>Prob(Omnibus):</th> <td> 0.000</td> <th>  Jarque-Bera (JB):  </th> <td> 251.889</td>\n",
       "</tr>\n",
       "<tr>\n",
       "  <th>Skew:</th>          <td> 0.865</td> <th>  Prob(JB):          </th> <td>2.01e-55</td>\n",
       "</tr>\n",
       "<tr>\n",
       "  <th>Kurtosis:</th>      <td> 5.845</td> <th>  Cond. No.          </th> <td>2.74e+04</td>\n",
       "</tr>\n",
       "</table><br/><br/>Notes:<br/>[1] R² is computed without centering (uncentered) since the model does not contain a constant.<br/>[2] Standard Errors assume that the covariance matrix of the errors is correctly specified.<br/>[3] The condition number is large, 2.74e+04. This might indicate that there are<br/>strong multicollinearity or other numerical problems."
      ],
      "text/plain": [
       "<class 'statsmodels.iolib.summary.Summary'>\n",
       "\"\"\"\n",
       "                                 OLS Regression Results                                \n",
       "=======================================================================================\n",
       "Dep. Variable:                  price   R-squared (uncentered):                   0.957\n",
       "Model:                            OLS   Adj. R-squared (uncentered):              0.956\n",
       "Method:                 Least Squares   F-statistic:                              1088.\n",
       "Date:                Sat, 24 Feb 2024   Prob (F-statistic):                        0.00\n",
       "Time:                        18:15:06   Log-Likelihood:                         -8333.5\n",
       "No. Observations:                 545   AIC:                                  1.669e+04\n",
       "Df Residuals:                     534   BIC:                                  1.674e+04\n",
       "Df Model:                          11                                                  \n",
       "Covariance Type:            nonrobust                                                  \n",
       "================================================================================================\n",
       "                                   coef    std err          t      P>|t|      [0.025      0.975]\n",
       "------------------------------------------------------------------------------------------------\n",
       "area                           257.5854     22.577     11.409      0.000     213.234     301.936\n",
       "bathrooms                     1.071e+06   9.27e+04     11.553      0.000    8.89e+05    1.25e+06\n",
       "stories                       5.084e+05   5.71e+04      8.898      0.000    3.96e+05    6.21e+05\n",
       "parking                       2.793e+05   5.83e+04      4.794      0.000    1.65e+05    3.94e+05\n",
       "mainroad_yes                  4.672e+05   1.27e+05      3.679      0.000    2.18e+05    7.17e+05\n",
       "guestroom_yes                 2.851e+05   1.31e+05      2.172      0.030    2.72e+04    5.43e+05\n",
       "basement_yes                  4.016e+05   1.07e+05      3.765      0.000    1.92e+05    6.11e+05\n",
       "hotwaterheating_yes           8.668e+05   2.23e+05      3.884      0.000    4.28e+05    1.31e+06\n",
       "airconditioning_yes           8.543e+05   1.07e+05      7.952      0.000    6.43e+05    1.07e+06\n",
       "prefarea_yes                  6.443e+05   1.15e+05      5.594      0.000    4.18e+05    8.71e+05\n",
       "furnishingstatus_unfurnished -3.493e+05   9.49e+04     -3.679      0.000   -5.36e+05   -1.63e+05\n",
       "==============================================================================\n",
       "Omnibus:                       94.840   Durbin-Watson:                   1.262\n",
       "Prob(Omnibus):                  0.000   Jarque-Bera (JB):              251.889\n",
       "Skew:                           0.865   Prob(JB):                     2.01e-55\n",
       "Kurtosis:                       5.845   Cond. No.                     2.74e+04\n",
       "==============================================================================\n",
       "\n",
       "Notes:\n",
       "[1] R² is computed without centering (uncentered) since the model does not contain a constant.\n",
       "[2] Standard Errors assume that the covariance matrix of the errors is correctly specified.\n",
       "[3] The condition number is large, 2.74e+04. This might indicate that there are\n",
       "strong multicollinearity or other numerical problems.\n",
       "\"\"\""
      ]
     },
     "execution_count": 41,
     "metadata": {},
     "output_type": "execute_result"
    }
   ],
   "source": [
    "model = sm.OLS(y, X).fit()\n",
    "model.summary()"
   ]
  },
  {
   "cell_type": "markdown",
   "id": "5861933e",
   "metadata": {},
   "source": [
    "可以看到，当我们把P值较大的自变量从线性回归模型中移除后，R方的值从0.682增长到了0.957，提高了模型对现有数据的拟合度。"
   ]
  },
  {
   "cell_type": "markdown",
   "id": "01dfcb3e",
   "metadata": {},
   "source": [
    "根据各个自变量在线性回归方程中的系数来看，模型预测以下因素的增加（或存在）会显著增加房屋价格：房屋面积、厕所数、楼层数、车库容量、位于主路、有客房、有地下室、有热水器、有空调、位于城市首选社区。\n",
    "\n",
    "线性回归模型预测以下因素的增加（或存在）会显著降低房屋价格：房屋未经装修，为毛坯房。"
   ]
  },
  {
   "cell_type": "code",
   "execution_count": 42,
   "id": "50c75827",
   "metadata": {},
   "outputs": [],
   "source": [
    "# 要预测房价的房屋的信息：\n",
    "# 面积为6500平方英尺，有4个卧室、2个厕所，总共2层，不位于主路，无客人房，带地下室，有热水器，没有空调，车位数为2，位于城市首选社区，简装修"
   ]
  },
  {
   "cell_type": "code",
   "execution_count": 43,
   "id": "d7d4aa06",
   "metadata": {},
   "outputs": [
    {
     "data": {
      "text/html": [
       "<div>\n",
       "<style scoped>\n",
       "    .dataframe tbody tr th:only-of-type {\n",
       "        vertical-align: middle;\n",
       "    }\n",
       "\n",
       "    .dataframe tbody tr th {\n",
       "        vertical-align: top;\n",
       "    }\n",
       "\n",
       "    .dataframe thead th {\n",
       "        text-align: right;\n",
       "    }\n",
       "</style>\n",
       "<table border=\"1\" class=\"dataframe\">\n",
       "  <thead>\n",
       "    <tr style=\"text-align: right;\">\n",
       "      <th></th>\n",
       "      <th>area</th>\n",
       "      <th>bedrooms</th>\n",
       "      <th>bathrooms</th>\n",
       "      <th>stories</th>\n",
       "      <th>mainroad</th>\n",
       "      <th>guestroom</th>\n",
       "      <th>basement</th>\n",
       "      <th>hotwaterheating</th>\n",
       "      <th>airconditioning</th>\n",
       "      <th>parking</th>\n",
       "      <th>prefarea</th>\n",
       "      <th>furnishingstatus</th>\n",
       "    </tr>\n",
       "  </thead>\n",
       "  <tbody>\n",
       "    <tr>\n",
       "      <th>0</th>\n",
       "      <td>5600</td>\n",
       "      <td>4</td>\n",
       "      <td>2</td>\n",
       "      <td>2</td>\n",
       "      <td>no</td>\n",
       "      <td>no</td>\n",
       "      <td>yes</td>\n",
       "      <td>yes</td>\n",
       "      <td>no</td>\n",
       "      <td>2</td>\n",
       "      <td>yes</td>\n",
       "      <td>semi-furnished</td>\n",
       "    </tr>\n",
       "  </tbody>\n",
       "</table>\n",
       "</div>"
      ],
      "text/plain": [
       "   area  bedrooms  bathrooms  stories mainroad guestroom basement  \\\n",
       "0  5600         4          2        2       no        no      yes   \n",
       "\n",
       "  hotwaterheating airconditioning  parking prefarea furnishingstatus  \n",
       "0             yes              no        2      yes   semi-furnished  "
      ]
     },
     "execution_count": 43,
     "metadata": {},
     "output_type": "execute_result"
    }
   ],
   "source": [
    "price_to_predict = pd.DataFrame({\"area\":[5600],\n",
    "             \"bedrooms\":[4],\n",
    "             \"bathrooms\":[2],\n",
    "             \"stories\":[2],\n",
    "             \"mainroad\":[\"no\"],\n",
    "             \"guestroom\":[\"no\"],\n",
    "             \"basement\":[\"yes\"],\n",
    "             \"hotwaterheating\":[\"yes\"],\n",
    "             \"airconditioning\":[\"no\"],\n",
    "             \"parking\":[2],\n",
    "             \"prefarea\":[\"yes\"],\n",
    "             \"furnishingstatus\":[\"semi-furnished\"]})\n",
    "price_to_predict"
   ]
  },
  {
   "cell_type": "markdown",
   "id": "4fa00db2",
   "metadata": {},
   "source": [
    "我们需要把分类变量的类型转换为Category，并且通过`categories`参数，让程序知道所有可能的分类值。这样做的原因是，预测数据包含的分类可能不全。我们需要确保引入虚拟变量的时候，不会漏掉某个或某些分类。"
   ]
  },
  {
   "cell_type": "code",
   "execution_count": 44,
   "id": "83b278fb",
   "metadata": {},
   "outputs": [],
   "source": [
    "price_to_predict[\"mainroad\"] = pd.Categorical(price_to_predict[\"mainroad\"], categories=[\"no\", \"yes\"])\n",
    "price_to_predict[\"guestroom\"] = pd.Categorical(price_to_predict[\"guestroom\"], categories=[\"no\", \"yes\"])\n",
    "price_to_predict[\"basement\"] = pd.Categorical(price_to_predict[\"basement\"], categories=[\"no\", \"yes\"])\n",
    "price_to_predict[\"hotwaterheating\"] = pd.Categorical(price_to_predict[\"hotwaterheating\"], categories=[\"no\", \"yes\"])\n",
    "price_to_predict[\"airconditioning\"] = pd.Categorical(price_to_predict[\"airconditioning\"], categories=[\"no\", \"yes\"])\n",
    "price_to_predict[\"prefarea\"] = pd.Categorical(price_to_predict[\"prefarea\"], categories=[\"no\", \"yes\"])\n",
    "price_to_predict[\"furnishingstatus\"] = pd.Categorical(price_to_predict[\"furnishingstatus\"], categories=[\"furnished\", \"semi-furnished\", \"unfurnished\"])"
   ]
  },
  {
   "cell_type": "markdown",
   "id": "fcc8cb43",
   "metadata": {},
   "source": [
    "下一步，对分类变量引入虚拟变量。"
   ]
  },
  {
   "cell_type": "code",
   "execution_count": 45,
   "id": "cb92af92",
   "metadata": {},
   "outputs": [
    {
     "data": {
      "text/html": [
       "<div>\n",
       "<style scoped>\n",
       "    .dataframe tbody tr th:only-of-type {\n",
       "        vertical-align: middle;\n",
       "    }\n",
       "\n",
       "    .dataframe tbody tr th {\n",
       "        vertical-align: top;\n",
       "    }\n",
       "\n",
       "    .dataframe thead th {\n",
       "        text-align: right;\n",
       "    }\n",
       "</style>\n",
       "<table border=\"1\" class=\"dataframe\">\n",
       "  <thead>\n",
       "    <tr style=\"text-align: right;\">\n",
       "      <th></th>\n",
       "      <th>area</th>\n",
       "      <th>bedrooms</th>\n",
       "      <th>bathrooms</th>\n",
       "      <th>stories</th>\n",
       "      <th>parking</th>\n",
       "      <th>mainroad_yes</th>\n",
       "      <th>guestroom_yes</th>\n",
       "      <th>basement_yes</th>\n",
       "      <th>hotwaterheating_yes</th>\n",
       "      <th>airconditioning_yes</th>\n",
       "      <th>prefarea_yes</th>\n",
       "      <th>furnishingstatus_semi-furnished</th>\n",
       "      <th>furnishingstatus_unfurnished</th>\n",
       "    </tr>\n",
       "  </thead>\n",
       "  <tbody>\n",
       "    <tr>\n",
       "      <th>0</th>\n",
       "      <td>5600</td>\n",
       "      <td>4</td>\n",
       "      <td>2</td>\n",
       "      <td>2</td>\n",
       "      <td>2</td>\n",
       "      <td>0</td>\n",
       "      <td>0</td>\n",
       "      <td>1</td>\n",
       "      <td>1</td>\n",
       "      <td>0</td>\n",
       "      <td>1</td>\n",
       "      <td>1</td>\n",
       "      <td>0</td>\n",
       "    </tr>\n",
       "  </tbody>\n",
       "</table>\n",
       "</div>"
      ],
      "text/plain": [
       "   area  bedrooms  bathrooms  stories  parking  mainroad_yes  guestroom_yes  \\\n",
       "0  5600         4          2        2        2             0              0   \n",
       "\n",
       "   basement_yes  hotwaterheating_yes  airconditioning_yes  prefarea_yes  \\\n",
       "0             1                    1                    0             1   \n",
       "\n",
       "   furnishingstatus_semi-furnished  furnishingstatus_unfurnished  \n",
       "0                                1                             0  "
      ]
     },
     "execution_count": 45,
     "metadata": {},
     "output_type": "execute_result"
    }
   ],
   "source": [
    "price_to_predict = pd.get_dummies(price_to_predict, \n",
    "                                  drop_first=True,\n",
    "                                  columns=[\"mainroad\", \"guestroom\", \"basement\", \"hotwaterheating\", \"airconditioning\", \"prefarea\", \"furnishingstatus\"],\n",
    "                                  dtype=int)\n",
    "price_to_predict.head()"
   ]
  },
  {
   "cell_type": "code",
   "execution_count": 46,
   "id": "8562d7e8",
   "metadata": {},
   "outputs": [],
   "source": [
    "price_to_predict = price_to_predict.drop([\"bedrooms\", \"furnishingstatus_semi-furnished\"], axis=1)"
   ]
  },
  {
   "cell_type": "markdown",
   "id": "08b29b72",
   "metadata": {},
   "source": [
    "接下来就可以调用线性回归模型的`predict`方法，获得预测价格。"
   ]
  },
  {
   "cell_type": "code",
   "execution_count": 47,
   "id": "2b9c83da",
   "metadata": {},
   "outputs": [
    {
     "data": {
      "text/plain": [
       "0    7.071927e+06\n",
       "dtype: float64"
      ]
     },
     "execution_count": 47,
     "metadata": {},
     "output_type": "execute_result"
    }
   ],
   "source": [
    "predict_value = model.predict(price_to_predict)\n",
    "predict_value"
   ]
  },
  {
   "cell_type": "markdown",
   "id": "1bdb0546",
   "metadata": {},
   "source": [
    "线性回归模型预测的价格为：7071927。"
   ]
  },
  {
   "cell_type": "code",
   "execution_count": null,
   "id": "ecbbf35a",
   "metadata": {},
   "outputs": [],
   "source": []
  }
 ],
 "metadata": {
  "kernelspec": {
   "display_name": "Python 3 (ipykernel)",
   "language": "python",
   "name": "python3"
  },
  "language_info": {
   "codemirror_mode": {
    "name": "ipython",
    "version": 3
   },
   "file_extension": ".py",
   "mimetype": "text/x-python",
   "name": "python",
   "nbconvert_exporter": "python",
   "pygments_lexer": "ipython3",
   "version": "3.9.12"
  }
 },
 "nbformat": 4,
 "nbformat_minor": 5
}
