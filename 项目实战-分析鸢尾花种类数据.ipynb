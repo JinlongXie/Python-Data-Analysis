{
 "cells": [
  {
   "cell_type": "markdown",
   "id": "7a58267a",
   "metadata": {},
   "source": [
    "# 项目：分析鸢尾花种类数据"
   ]
  },
  {
   "cell_type": "markdown",
   "id": "2685aacc",
   "metadata": {},
   "source": [
    "## 分析目标"
   ]
  },
  {
   "cell_type": "markdown",
   "id": "6d758506",
   "metadata": {},
   "source": [
    "此数据分析报告的目的是基于鸢尾花的属性数据，分析两种鸢尾花萼片、花瓣的长度和宽度平均值，是否存在显著性差异，让我们可以对不同种类鸢尾花的属性特征进行推断。"
   ]
  },
  {
   "cell_type": "markdown",
   "id": "9b6518f7",
   "metadata": {},
   "source": [
    "## 简介"
   ]
  },
  {
   "cell_type": "markdown",
   "id": "7f2d16cd",
   "metadata": {},
   "source": [
    "原始数据`Iris.csv`包括两种鸢尾花，每种有 50 个样本，以及每个样本的一些属性，包括萼片的长度和宽度、花瓣的长度和宽度。\n",
    "\n",
    "`Iris.csv`每列的含义如下：\n",
    "- Id：样本的ID。\n",
    "- SepalLengthCm：萼片的长度（单位为厘米）。\n",
    "- SepalWidthCm：萼片的宽度（单位为厘米）。\n",
    "- PetalLengthCm：花瓣的长度（单位为厘米）。\n",
    "- PetalWidthCm：花瓣的宽度（单位为厘米）。\n",
    "- Species：鸢尾花种类。"
   ]
  },
  {
   "cell_type": "markdown",
   "id": "1bce6825",
   "metadata": {},
   "source": [
    "## 读取数据"
   ]
  },
  {
   "cell_type": "markdown",
   "id": "28cc8c43",
   "metadata": {},
   "source": [
    "导入数据分析所需要的库，并通过Pandas的`read_csv`函数，将原始数据文件`Iris.csv`里的数据内容，解析为DataFrame并赋值给变量`original_data`。"
   ]
  },
  {
   "cell_type": "code",
   "execution_count": 1,
   "id": "6ad0bdb7",
   "metadata": {},
   "outputs": [],
   "source": [
    "import pandas as pd\n",
    "import matplotlib.pyplot as plt\n",
    "import seaborn as sns"
   ]
  },
  {
   "cell_type": "code",
   "execution_count": 2,
   "id": "f13e4293",
   "metadata": {},
   "outputs": [
    {
     "data": {
      "text/html": [
       "<div>\n",
       "<style scoped>\n",
       "    .dataframe tbody tr th:only-of-type {\n",
       "        vertical-align: middle;\n",
       "    }\n",
       "\n",
       "    .dataframe tbody tr th {\n",
       "        vertical-align: top;\n",
       "    }\n",
       "\n",
       "    .dataframe thead th {\n",
       "        text-align: right;\n",
       "    }\n",
       "</style>\n",
       "<table border=\"1\" class=\"dataframe\">\n",
       "  <thead>\n",
       "    <tr style=\"text-align: right;\">\n",
       "      <th></th>\n",
       "      <th>Id</th>\n",
       "      <th>SepalLengthCm</th>\n",
       "      <th>SepalWidthCm</th>\n",
       "      <th>PetalLengthCm</th>\n",
       "      <th>PetalWidthCm</th>\n",
       "      <th>Species</th>\n",
       "    </tr>\n",
       "  </thead>\n",
       "  <tbody>\n",
       "    <tr>\n",
       "      <th>0</th>\n",
       "      <td>1</td>\n",
       "      <td>5.1</td>\n",
       "      <td>3.5</td>\n",
       "      <td>1.4</td>\n",
       "      <td>0.2</td>\n",
       "      <td>Iris-setosa</td>\n",
       "    </tr>\n",
       "    <tr>\n",
       "      <th>1</th>\n",
       "      <td>2</td>\n",
       "      <td>4.9</td>\n",
       "      <td>3.0</td>\n",
       "      <td>1.4</td>\n",
       "      <td>0.2</td>\n",
       "      <td>Iris-setosa</td>\n",
       "    </tr>\n",
       "    <tr>\n",
       "      <th>2</th>\n",
       "      <td>3</td>\n",
       "      <td>4.7</td>\n",
       "      <td>3.2</td>\n",
       "      <td>1.3</td>\n",
       "      <td>0.2</td>\n",
       "      <td>Iris-setosa</td>\n",
       "    </tr>\n",
       "    <tr>\n",
       "      <th>3</th>\n",
       "      <td>4</td>\n",
       "      <td>4.6</td>\n",
       "      <td>3.1</td>\n",
       "      <td>1.5</td>\n",
       "      <td>0.2</td>\n",
       "      <td>Iris-setosa</td>\n",
       "    </tr>\n",
       "    <tr>\n",
       "      <th>4</th>\n",
       "      <td>5</td>\n",
       "      <td>5.0</td>\n",
       "      <td>3.6</td>\n",
       "      <td>1.4</td>\n",
       "      <td>0.2</td>\n",
       "      <td>Iris-setosa</td>\n",
       "    </tr>\n",
       "  </tbody>\n",
       "</table>\n",
       "</div>"
      ],
      "text/plain": [
       "   Id  SepalLengthCm  SepalWidthCm  PetalLengthCm  PetalWidthCm      Species\n",
       "0   1            5.1           3.5            1.4           0.2  Iris-setosa\n",
       "1   2            4.9           3.0            1.4           0.2  Iris-setosa\n",
       "2   3            4.7           3.2            1.3           0.2  Iris-setosa\n",
       "3   4            4.6           3.1            1.5           0.2  Iris-setosa\n",
       "4   5            5.0           3.6            1.4           0.2  Iris-setosa"
      ]
     },
     "execution_count": 2,
     "metadata": {},
     "output_type": "execute_result"
    }
   ],
   "source": [
    "original_data = pd.read_csv(\"./07 数据分析篇/Iris.csv\")\n",
    "original_data.head()"
   ]
  },
  {
   "cell_type": "markdown",
   "id": "3c652f10",
   "metadata": {},
   "source": [
    "## 评估和清理数据"
   ]
  },
  {
   "cell_type": "markdown",
   "id": "e4eb0e43",
   "metadata": {},
   "source": [
    "在这一部分中，我们将对在上一部分建立的`original_data`DataFrame所包含的数据进行评估和清理。\n",
    "\n",
    "主要从两个方面进行：结构和内容，即整齐度和干净度。\n",
    "\n",
    "数据的结构性问题指不符合“每个变量为一列，每个观察值为一行，每种类型的观察单位为一个表格”这三个标准；数据的内容性问题包括存在丢失数据、重复数据、无效数据等。"
   ]
  },
  {
   "cell_type": "markdown",
   "id": "0b28c941",
   "metadata": {},
   "source": [
    "为了区分开经过清理的数据和原始的数据，我们创建新的变量`cleaned_data`，让它为`original_data`复制出的副本。我们之后的清理步骤都将被运用在`cleaned_data`上。"
   ]
  },
  {
   "cell_type": "code",
   "execution_count": 3,
   "id": "63c8de3a",
   "metadata": {},
   "outputs": [],
   "source": [
    "cleaned_data = original_data.copy()"
   ]
  },
  {
   "cell_type": "markdown",
   "id": "8c76f725",
   "metadata": {},
   "source": [
    "### 数据整齐度"
   ]
  },
  {
   "cell_type": "code",
   "execution_count": 4,
   "id": "3d3cc060",
   "metadata": {},
   "outputs": [
    {
     "data": {
      "text/html": [
       "<div>\n",
       "<style scoped>\n",
       "    .dataframe tbody tr th:only-of-type {\n",
       "        vertical-align: middle;\n",
       "    }\n",
       "\n",
       "    .dataframe tbody tr th {\n",
       "        vertical-align: top;\n",
       "    }\n",
       "\n",
       "    .dataframe thead th {\n",
       "        text-align: right;\n",
       "    }\n",
       "</style>\n",
       "<table border=\"1\" class=\"dataframe\">\n",
       "  <thead>\n",
       "    <tr style=\"text-align: right;\">\n",
       "      <th></th>\n",
       "      <th>Id</th>\n",
       "      <th>SepalLengthCm</th>\n",
       "      <th>SepalWidthCm</th>\n",
       "      <th>PetalLengthCm</th>\n",
       "      <th>PetalWidthCm</th>\n",
       "      <th>Species</th>\n",
       "    </tr>\n",
       "  </thead>\n",
       "  <tbody>\n",
       "    <tr>\n",
       "      <th>0</th>\n",
       "      <td>1</td>\n",
       "      <td>5.1</td>\n",
       "      <td>3.5</td>\n",
       "      <td>1.4</td>\n",
       "      <td>0.2</td>\n",
       "      <td>Iris-setosa</td>\n",
       "    </tr>\n",
       "    <tr>\n",
       "      <th>1</th>\n",
       "      <td>2</td>\n",
       "      <td>4.9</td>\n",
       "      <td>3.0</td>\n",
       "      <td>1.4</td>\n",
       "      <td>0.2</td>\n",
       "      <td>Iris-setosa</td>\n",
       "    </tr>\n",
       "    <tr>\n",
       "      <th>2</th>\n",
       "      <td>3</td>\n",
       "      <td>4.7</td>\n",
       "      <td>3.2</td>\n",
       "      <td>1.3</td>\n",
       "      <td>0.2</td>\n",
       "      <td>Iris-setosa</td>\n",
       "    </tr>\n",
       "    <tr>\n",
       "      <th>3</th>\n",
       "      <td>4</td>\n",
       "      <td>4.6</td>\n",
       "      <td>3.1</td>\n",
       "      <td>1.5</td>\n",
       "      <td>0.2</td>\n",
       "      <td>Iris-setosa</td>\n",
       "    </tr>\n",
       "    <tr>\n",
       "      <th>4</th>\n",
       "      <td>5</td>\n",
       "      <td>5.0</td>\n",
       "      <td>3.6</td>\n",
       "      <td>1.4</td>\n",
       "      <td>0.2</td>\n",
       "      <td>Iris-setosa</td>\n",
       "    </tr>\n",
       "    <tr>\n",
       "      <th>5</th>\n",
       "      <td>6</td>\n",
       "      <td>5.4</td>\n",
       "      <td>3.9</td>\n",
       "      <td>1.7</td>\n",
       "      <td>0.4</td>\n",
       "      <td>Iris-setosa</td>\n",
       "    </tr>\n",
       "    <tr>\n",
       "      <th>6</th>\n",
       "      <td>7</td>\n",
       "      <td>4.6</td>\n",
       "      <td>3.4</td>\n",
       "      <td>1.4</td>\n",
       "      <td>0.3</td>\n",
       "      <td>Iris-setosa</td>\n",
       "    </tr>\n",
       "    <tr>\n",
       "      <th>7</th>\n",
       "      <td>8</td>\n",
       "      <td>5.0</td>\n",
       "      <td>3.4</td>\n",
       "      <td>1.5</td>\n",
       "      <td>0.2</td>\n",
       "      <td>Iris-setosa</td>\n",
       "    </tr>\n",
       "    <tr>\n",
       "      <th>8</th>\n",
       "      <td>9</td>\n",
       "      <td>4.4</td>\n",
       "      <td>2.9</td>\n",
       "      <td>1.4</td>\n",
       "      <td>0.2</td>\n",
       "      <td>Iris-setosa</td>\n",
       "    </tr>\n",
       "    <tr>\n",
       "      <th>9</th>\n",
       "      <td>10</td>\n",
       "      <td>4.9</td>\n",
       "      <td>3.1</td>\n",
       "      <td>1.5</td>\n",
       "      <td>0.1</td>\n",
       "      <td>Iris-setosa</td>\n",
       "    </tr>\n",
       "  </tbody>\n",
       "</table>\n",
       "</div>"
      ],
      "text/plain": [
       "   Id  SepalLengthCm  SepalWidthCm  PetalLengthCm  PetalWidthCm      Species\n",
       "0   1            5.1           3.5            1.4           0.2  Iris-setosa\n",
       "1   2            4.9           3.0            1.4           0.2  Iris-setosa\n",
       "2   3            4.7           3.2            1.3           0.2  Iris-setosa\n",
       "3   4            4.6           3.1            1.5           0.2  Iris-setosa\n",
       "4   5            5.0           3.6            1.4           0.2  Iris-setosa\n",
       "5   6            5.4           3.9            1.7           0.4  Iris-setosa\n",
       "6   7            4.6           3.4            1.4           0.3  Iris-setosa\n",
       "7   8            5.0           3.4            1.5           0.2  Iris-setosa\n",
       "8   9            4.4           2.9            1.4           0.2  Iris-setosa\n",
       "9  10            4.9           3.1            1.5           0.1  Iris-setosa"
      ]
     },
     "execution_count": 4,
     "metadata": {},
     "output_type": "execute_result"
    }
   ],
   "source": [
    "cleaned_data.head(10)"
   ]
  },
  {
   "cell_type": "markdown",
   "id": "b1663301",
   "metadata": {},
   "source": [
    "从头部的10行数据来看，数据符合“每个变量为一列，每个观察值为一行，每种类型的观察单位为一个表格”，因此不存在结构性问题。"
   ]
  },
  {
   "cell_type": "markdown",
   "id": "9e500804",
   "metadata": {},
   "source": [
    "### 数据干净度"
   ]
  },
  {
   "cell_type": "markdown",
   "id": "1be22548",
   "metadata": {},
   "source": [
    "接下来通过`info`，对数据内容进行大致了解。"
   ]
  },
  {
   "cell_type": "code",
   "execution_count": 5,
   "id": "a6edbb48",
   "metadata": {},
   "outputs": [
    {
     "name": "stdout",
     "output_type": "stream",
     "text": [
      "<class 'pandas.core.frame.DataFrame'>\n",
      "RangeIndex: 100 entries, 0 to 99\n",
      "Data columns (total 6 columns):\n",
      " #   Column         Non-Null Count  Dtype  \n",
      "---  ------         --------------  -----  \n",
      " 0   Id             100 non-null    int64  \n",
      " 1   SepalLengthCm  100 non-null    float64\n",
      " 2   SepalWidthCm   100 non-null    float64\n",
      " 3   PetalLengthCm  100 non-null    float64\n",
      " 4   PetalWidthCm   100 non-null    float64\n",
      " 5   Species        100 non-null    object \n",
      "dtypes: float64(4), int64(1), object(1)\n",
      "memory usage: 4.8+ KB\n"
     ]
    }
   ],
   "source": [
    "cleaned_data.info()"
   ]
  },
  {
   "cell_type": "markdown",
   "id": "59417b60",
   "metadata": {},
   "source": [
    "从输出结果来看，`cleaned_data`数据共有100条观察值，不存在缺失值。\n",
    "\n",
    "`Id`表示样本ID，数据类型不应为数字，应为字符串，所以需要进行数据格式转换。"
   ]
  },
  {
   "cell_type": "code",
   "execution_count": 6,
   "id": "ada7c4da",
   "metadata": {},
   "outputs": [
    {
     "data": {
      "text/plain": [
       "0       1\n",
       "1       2\n",
       "2       3\n",
       "3       4\n",
       "4       5\n",
       "     ... \n",
       "95     96\n",
       "96     97\n",
       "97     98\n",
       "98     99\n",
       "99    100\n",
       "Name: Id, Length: 100, dtype: object"
      ]
     },
     "execution_count": 6,
     "metadata": {},
     "output_type": "execute_result"
    }
   ],
   "source": [
    "cleaned_data[\"Id\"] = cleaned_data[\"Id\"].astype(\"str\")\n",
    "cleaned_data[\"Id\"]"
   ]
  },
  {
   "cell_type": "markdown",
   "id": "7c88951c",
   "metadata": {},
   "source": [
    "#### 处理缺失数据"
   ]
  },
  {
   "cell_type": "markdown",
   "id": "9d16b58f",
   "metadata": {},
   "source": [
    "从`info`方法的输出结果来看，`cleaned_data`不存在缺失值，因此不需要对缺失数据进行处理。"
   ]
  },
  {
   "cell_type": "markdown",
   "id": "ce207215",
   "metadata": {},
   "source": [
    "#### 处理重复数据"
   ]
  },
  {
   "cell_type": "markdown",
   "id": "f52dc424",
   "metadata": {},
   "source": [
    "根据数据变量的含义以及内容来看，`cleaned_data`里的`Id`是样本的唯一标识符，不应该存在重复，因此查看是否存在重复值。"
   ]
  },
  {
   "cell_type": "code",
   "execution_count": 7,
   "id": "b60bc239",
   "metadata": {},
   "outputs": [
    {
     "data": {
      "text/plain": [
       "0"
      ]
     },
     "execution_count": 7,
     "metadata": {},
     "output_type": "execute_result"
    }
   ],
   "source": [
    "cleaned_data[\"Id\"].duplicated().sum()"
   ]
  },
  {
   "cell_type": "markdown",
   "id": "cae926dc",
   "metadata": {},
   "source": [
    "输出结果为0，说明不存在重复值。"
   ]
  },
  {
   "cell_type": "markdown",
   "id": "68169f3a",
   "metadata": {},
   "source": [
    "#### 处理不一致数据"
   ]
  },
  {
   "cell_type": "markdown",
   "id": "26c180dc",
   "metadata": {},
   "source": [
    "不一致数据可能存在于`Species`变量中，我们要查看是否存在多个不同值指代同一鸢尾花种类的情况。"
   ]
  },
  {
   "cell_type": "code",
   "execution_count": 8,
   "id": "013967a2",
   "metadata": {},
   "outputs": [
    {
     "data": {
      "text/plain": [
       "Iris-setosa        50\n",
       "Iris-versicolor    50\n",
       "Name: Species, dtype: int64"
      ]
     },
     "execution_count": 8,
     "metadata": {},
     "output_type": "execute_result"
    }
   ],
   "source": [
    "cleaned_data[\"Species\"].value_counts()"
   ]
  },
  {
   "cell_type": "markdown",
   "id": "6718a0ae",
   "metadata": {},
   "source": [
    "从以上输出结果来看，Species只有两种可能的值，Iris-versicolor和Iris-setosa，不存在不一致数据。\n",
    "\n",
    "我们可以把Species这一列的数据类型转换为Category，好处是比字符串类型更节约内存空间，也能说明值的类型有限。"
   ]
  },
  {
   "cell_type": "code",
   "execution_count": 9,
   "id": "9cc237aa",
   "metadata": {},
   "outputs": [
    {
     "data": {
      "text/plain": [
       "0         Iris-setosa\n",
       "1         Iris-setosa\n",
       "2         Iris-setosa\n",
       "3         Iris-setosa\n",
       "4         Iris-setosa\n",
       "           ...       \n",
       "95    Iris-versicolor\n",
       "96    Iris-versicolor\n",
       "97    Iris-versicolor\n",
       "98    Iris-versicolor\n",
       "99    Iris-versicolor\n",
       "Name: Species, Length: 100, dtype: category\n",
       "Categories (2, object): ['Iris-setosa', 'Iris-versicolor']"
      ]
     },
     "execution_count": 9,
     "metadata": {},
     "output_type": "execute_result"
    }
   ],
   "source": [
    "cleaned_data[\"Species\"] = cleaned_data[\"Species\"].astype(\"category\")\n",
    "cleaned_data[\"Species\"]"
   ]
  },
  {
   "cell_type": "markdown",
   "id": "b8635207",
   "metadata": {},
   "source": [
    "#### 处理无效或错误数据"
   ]
  },
  {
   "cell_type": "markdown",
   "id": "f75a33ee",
   "metadata": {},
   "source": [
    "可以通过DataFrame的`describe`方法，对数值统计信息进行快速了解。"
   ]
  },
  {
   "cell_type": "code",
   "execution_count": 10,
   "id": "cf2b6de5",
   "metadata": {},
   "outputs": [
    {
     "data": {
      "text/html": [
       "<div>\n",
       "<style scoped>\n",
       "    .dataframe tbody tr th:only-of-type {\n",
       "        vertical-align: middle;\n",
       "    }\n",
       "\n",
       "    .dataframe tbody tr th {\n",
       "        vertical-align: top;\n",
       "    }\n",
       "\n",
       "    .dataframe thead th {\n",
       "        text-align: right;\n",
       "    }\n",
       "</style>\n",
       "<table border=\"1\" class=\"dataframe\">\n",
       "  <thead>\n",
       "    <tr style=\"text-align: right;\">\n",
       "      <th></th>\n",
       "      <th>SepalLengthCm</th>\n",
       "      <th>SepalWidthCm</th>\n",
       "      <th>PetalLengthCm</th>\n",
       "      <th>PetalWidthCm</th>\n",
       "    </tr>\n",
       "  </thead>\n",
       "  <tbody>\n",
       "    <tr>\n",
       "      <th>count</th>\n",
       "      <td>100.000000</td>\n",
       "      <td>100.000000</td>\n",
       "      <td>100.000000</td>\n",
       "      <td>100.000000</td>\n",
       "    </tr>\n",
       "    <tr>\n",
       "      <th>mean</th>\n",
       "      <td>5.471000</td>\n",
       "      <td>3.094000</td>\n",
       "      <td>2.862000</td>\n",
       "      <td>0.785000</td>\n",
       "    </tr>\n",
       "    <tr>\n",
       "      <th>std</th>\n",
       "      <td>0.641698</td>\n",
       "      <td>0.476057</td>\n",
       "      <td>1.448565</td>\n",
       "      <td>0.566288</td>\n",
       "    </tr>\n",
       "    <tr>\n",
       "      <th>min</th>\n",
       "      <td>4.300000</td>\n",
       "      <td>2.000000</td>\n",
       "      <td>1.000000</td>\n",
       "      <td>0.100000</td>\n",
       "    </tr>\n",
       "    <tr>\n",
       "      <th>25%</th>\n",
       "      <td>5.000000</td>\n",
       "      <td>2.800000</td>\n",
       "      <td>1.500000</td>\n",
       "      <td>0.200000</td>\n",
       "    </tr>\n",
       "    <tr>\n",
       "      <th>50%</th>\n",
       "      <td>5.400000</td>\n",
       "      <td>3.050000</td>\n",
       "      <td>2.450000</td>\n",
       "      <td>0.800000</td>\n",
       "    </tr>\n",
       "    <tr>\n",
       "      <th>75%</th>\n",
       "      <td>5.900000</td>\n",
       "      <td>3.400000</td>\n",
       "      <td>4.325000</td>\n",
       "      <td>1.300000</td>\n",
       "    </tr>\n",
       "    <tr>\n",
       "      <th>max</th>\n",
       "      <td>7.000000</td>\n",
       "      <td>4.400000</td>\n",
       "      <td>5.100000</td>\n",
       "      <td>1.800000</td>\n",
       "    </tr>\n",
       "  </tbody>\n",
       "</table>\n",
       "</div>"
      ],
      "text/plain": [
       "       SepalLengthCm  SepalWidthCm  PetalLengthCm  PetalWidthCm\n",
       "count     100.000000    100.000000     100.000000    100.000000\n",
       "mean        5.471000      3.094000       2.862000      0.785000\n",
       "std         0.641698      0.476057       1.448565      0.566288\n",
       "min         4.300000      2.000000       1.000000      0.100000\n",
       "25%         5.000000      2.800000       1.500000      0.200000\n",
       "50%         5.400000      3.050000       2.450000      0.800000\n",
       "75%         5.900000      3.400000       4.325000      1.300000\n",
       "max         7.000000      4.400000       5.100000      1.800000"
      ]
     },
     "execution_count": 10,
     "metadata": {},
     "output_type": "execute_result"
    }
   ],
   "source": [
    "cleaned_data.describe()"
   ]
  },
  {
   "cell_type": "markdown",
   "id": "8eda2092",
   "metadata": {},
   "source": [
    "从以上统计信息来看，cleaned_data里不存在脱离现实意义的数值。"
   ]
  },
  {
   "cell_type": "markdown",
   "id": "e5e1a95e",
   "metadata": {},
   "source": [
    "## 整理数据"
   ]
  },
  {
   "cell_type": "markdown",
   "id": "cf2b4e10",
   "metadata": {},
   "source": [
    "对数据的整理，与分析方向紧密相关。此次数据分析目标是，基于鸢尾花的属性数据，分析两种鸢尾花萼片、花瓣的长度和宽度平均值，是否存在显著性差异。\n",
    "\n",
    "那么我们可以对数据基于`Species`列，先把各个鸢尾花种类样本数据筛选出来。"
   ]
  },
  {
   "cell_type": "code",
   "execution_count": 11,
   "id": "4cfea517",
   "metadata": {},
   "outputs": [
    {
     "data": {
      "text/html": [
       "<div>\n",
       "<style scoped>\n",
       "    .dataframe tbody tr th:only-of-type {\n",
       "        vertical-align: middle;\n",
       "    }\n",
       "\n",
       "    .dataframe tbody tr th {\n",
       "        vertical-align: top;\n",
       "    }\n",
       "\n",
       "    .dataframe thead th {\n",
       "        text-align: right;\n",
       "    }\n",
       "</style>\n",
       "<table border=\"1\" class=\"dataframe\">\n",
       "  <thead>\n",
       "    <tr style=\"text-align: right;\">\n",
       "      <th></th>\n",
       "      <th>Id</th>\n",
       "      <th>SepalLengthCm</th>\n",
       "      <th>SepalWidthCm</th>\n",
       "      <th>PetalLengthCm</th>\n",
       "      <th>PetalWidthCm</th>\n",
       "      <th>Species</th>\n",
       "    </tr>\n",
       "  </thead>\n",
       "  <tbody>\n",
       "    <tr>\n",
       "      <th>0</th>\n",
       "      <td>1</td>\n",
       "      <td>5.1</td>\n",
       "      <td>3.5</td>\n",
       "      <td>1.4</td>\n",
       "      <td>0.2</td>\n",
       "      <td>Iris-setosa</td>\n",
       "    </tr>\n",
       "    <tr>\n",
       "      <th>1</th>\n",
       "      <td>2</td>\n",
       "      <td>4.9</td>\n",
       "      <td>3.0</td>\n",
       "      <td>1.4</td>\n",
       "      <td>0.2</td>\n",
       "      <td>Iris-setosa</td>\n",
       "    </tr>\n",
       "    <tr>\n",
       "      <th>2</th>\n",
       "      <td>3</td>\n",
       "      <td>4.7</td>\n",
       "      <td>3.2</td>\n",
       "      <td>1.3</td>\n",
       "      <td>0.2</td>\n",
       "      <td>Iris-setosa</td>\n",
       "    </tr>\n",
       "    <tr>\n",
       "      <th>3</th>\n",
       "      <td>4</td>\n",
       "      <td>4.6</td>\n",
       "      <td>3.1</td>\n",
       "      <td>1.5</td>\n",
       "      <td>0.2</td>\n",
       "      <td>Iris-setosa</td>\n",
       "    </tr>\n",
       "    <tr>\n",
       "      <th>4</th>\n",
       "      <td>5</td>\n",
       "      <td>5.0</td>\n",
       "      <td>3.6</td>\n",
       "      <td>1.4</td>\n",
       "      <td>0.2</td>\n",
       "      <td>Iris-setosa</td>\n",
       "    </tr>\n",
       "  </tbody>\n",
       "</table>\n",
       "</div>"
      ],
      "text/plain": [
       "  Id  SepalLengthCm  SepalWidthCm  PetalLengthCm  PetalWidthCm      Species\n",
       "0  1            5.1           3.5            1.4           0.2  Iris-setosa\n",
       "1  2            4.9           3.0            1.4           0.2  Iris-setosa\n",
       "2  3            4.7           3.2            1.3           0.2  Iris-setosa\n",
       "3  4            4.6           3.1            1.5           0.2  Iris-setosa\n",
       "4  5            5.0           3.6            1.4           0.2  Iris-setosa"
      ]
     },
     "execution_count": 11,
     "metadata": {},
     "output_type": "execute_result"
    }
   ],
   "source": [
    "iris_setosa = cleaned_data.query(\"Species == 'Iris-setosa'\")\n",
    "iris_setosa.head()"
   ]
  },
  {
   "cell_type": "code",
   "execution_count": 12,
   "id": "8392c3bb",
   "metadata": {},
   "outputs": [
    {
     "data": {
      "text/plain": [
       "50"
      ]
     },
     "execution_count": 12,
     "metadata": {},
     "output_type": "execute_result"
    }
   ],
   "source": [
    "len(iris_setosa)"
   ]
  },
  {
   "cell_type": "code",
   "execution_count": 13,
   "id": "3e4e969f",
   "metadata": {},
   "outputs": [
    {
     "data": {
      "text/html": [
       "<div>\n",
       "<style scoped>\n",
       "    .dataframe tbody tr th:only-of-type {\n",
       "        vertical-align: middle;\n",
       "    }\n",
       "\n",
       "    .dataframe tbody tr th {\n",
       "        vertical-align: top;\n",
       "    }\n",
       "\n",
       "    .dataframe thead th {\n",
       "        text-align: right;\n",
       "    }\n",
       "</style>\n",
       "<table border=\"1\" class=\"dataframe\">\n",
       "  <thead>\n",
       "    <tr style=\"text-align: right;\">\n",
       "      <th></th>\n",
       "      <th>Id</th>\n",
       "      <th>SepalLengthCm</th>\n",
       "      <th>SepalWidthCm</th>\n",
       "      <th>PetalLengthCm</th>\n",
       "      <th>PetalWidthCm</th>\n",
       "      <th>Species</th>\n",
       "    </tr>\n",
       "  </thead>\n",
       "  <tbody>\n",
       "    <tr>\n",
       "      <th>50</th>\n",
       "      <td>51</td>\n",
       "      <td>7.0</td>\n",
       "      <td>3.2</td>\n",
       "      <td>4.7</td>\n",
       "      <td>1.4</td>\n",
       "      <td>Iris-versicolor</td>\n",
       "    </tr>\n",
       "    <tr>\n",
       "      <th>51</th>\n",
       "      <td>52</td>\n",
       "      <td>6.4</td>\n",
       "      <td>3.2</td>\n",
       "      <td>4.5</td>\n",
       "      <td>1.5</td>\n",
       "      <td>Iris-versicolor</td>\n",
       "    </tr>\n",
       "    <tr>\n",
       "      <th>52</th>\n",
       "      <td>53</td>\n",
       "      <td>6.9</td>\n",
       "      <td>3.1</td>\n",
       "      <td>4.9</td>\n",
       "      <td>1.5</td>\n",
       "      <td>Iris-versicolor</td>\n",
       "    </tr>\n",
       "    <tr>\n",
       "      <th>53</th>\n",
       "      <td>54</td>\n",
       "      <td>5.5</td>\n",
       "      <td>2.3</td>\n",
       "      <td>4.0</td>\n",
       "      <td>1.3</td>\n",
       "      <td>Iris-versicolor</td>\n",
       "    </tr>\n",
       "    <tr>\n",
       "      <th>54</th>\n",
       "      <td>55</td>\n",
       "      <td>6.5</td>\n",
       "      <td>2.8</td>\n",
       "      <td>4.6</td>\n",
       "      <td>1.5</td>\n",
       "      <td>Iris-versicolor</td>\n",
       "    </tr>\n",
       "  </tbody>\n",
       "</table>\n",
       "</div>"
      ],
      "text/plain": [
       "    Id  SepalLengthCm  SepalWidthCm  PetalLengthCm  PetalWidthCm  \\\n",
       "50  51            7.0           3.2            4.7           1.4   \n",
       "51  52            6.4           3.2            4.5           1.5   \n",
       "52  53            6.9           3.1            4.9           1.5   \n",
       "53  54            5.5           2.3            4.0           1.3   \n",
       "54  55            6.5           2.8            4.6           1.5   \n",
       "\n",
       "            Species  \n",
       "50  Iris-versicolor  \n",
       "51  Iris-versicolor  \n",
       "52  Iris-versicolor  \n",
       "53  Iris-versicolor  \n",
       "54  Iris-versicolor  "
      ]
     },
     "execution_count": 13,
     "metadata": {},
     "output_type": "execute_result"
    }
   ],
   "source": [
    "iris_versicolor = cleaned_data.query(\"Species == 'Iris-versicolor'\")\n",
    "iris_versicolor.head()"
   ]
  },
  {
   "cell_type": "code",
   "execution_count": 14,
   "id": "c0dee987",
   "metadata": {},
   "outputs": [
    {
     "data": {
      "text/plain": [
       "50"
      ]
     },
     "execution_count": 14,
     "metadata": {},
     "output_type": "execute_result"
    }
   ],
   "source": [
    "len(iris_versicolor)"
   ]
  },
  {
   "cell_type": "markdown",
   "id": "c697103e",
   "metadata": {},
   "source": [
    "## 探索数据"
   ]
  },
  {
   "cell_type": "markdown",
   "id": "733becf8",
   "metadata": {},
   "source": [
    "在着手推断统计学分析之前，我们可以先借助数据可视化，探索`Setosa`和`Versicolor`这两种鸢尾花的变量特点。\n",
    "\n",
    "可视化探索可以帮我们对数据有一个更直观的理解，比如了解数据的分布、发现变量之间的关系，等等，从而为后续的进一步分析提供方向。"
   ]
  },
  {
   "cell_type": "markdown",
   "id": "64dfb788",
   "metadata": {},
   "source": [
    "针对数值，我们可以直接绘制成配对图，利用其中的密度图查看不同变量的分布，以及利用散点图了解变量之间的关系。\n",
    "\n",
    "并且，由于此次分析目的是了解不同种类鸢尾花的属性特征是否存在差异，我们可以利用颜色对图表上不同种类的样本进行分类。"
   ]
  },
  {
   "cell_type": "code",
   "execution_count": 15,
   "id": "11ce4f93",
   "metadata": {},
   "outputs": [
    {
     "data": {
      "image/png": "[encoded data removed]",
      "text/plain": [
       "<Figure size 830.375x720 with 20 Axes>"
      ]
     },
     "metadata": {
      "needs_background": "light"
     },
     "output_type": "display_data"
    }
   ],
   "source": [
    "sns.pairplot(cleaned_data, hue=\"Species\")\n",
    "plt.show()"
   ]
  },
  {
   "cell_type": "markdown",
   "id": "b0563432",
   "metadata": {},
   "source": [
    "从以上可以看出，`Setosa`和`Versicolor`样本的花瓣长度以及花瓣宽度的分布存在明显数值上的不同，已经可以猜测假设检验的结果是，两种鸢尾花的花瓣长度与宽度有统计显著性差异。\n",
    "\n",
    "萼片的长度和宽度在分布上存在重叠，暂时无法仅通过图表下结论，需要进行假设检验，来推断总体的萼片长度和宽度之间是否有差异。"
   ]
  },
  {
   "cell_type": "markdown",
   "id": "f070773f",
   "metadata": {},
   "source": [
    "## 分析数据"
   ]
  },
  {
   "cell_type": "markdown",
   "id": "0b319822",
   "metadata": {},
   "source": [
    "我们将利用假设检验，依次检验`Setosa`和`Versicolor`这两种鸢尾花在萼片、花瓣的长度和宽度平均值方面，是否存在统计显著性差异。"
   ]
  },
  {
   "cell_type": "markdown",
   "id": "029e8f6c",
   "metadata": {},
   "source": [
    "由于我们只有样本数据，不知道总体的标准差，加上两组样本数各为50，样本数量不大，因此进行t检验，而不是z检验。假设此数据集样本符合t检验的两个前提：样本为随机抽样，总体呈正态分布。\n",
    "\n",
    "我们先引入t检验所需要的模块。"
   ]
  },
  {
   "cell_type": "code",
   "execution_count": 16,
   "id": "7bc036ee",
   "metadata": {},
   "outputs": [],
   "source": [
    "from scipy.stats import ttest_ind"
   ]
  },
  {
   "cell_type": "markdown",
   "id": "98b7697b",
   "metadata": {},
   "source": [
    "### 分析萼片长度"
   ]
  },
  {
   "cell_type": "markdown",
   "id": "ff8ee257",
   "metadata": {},
   "source": [
    "Setosa 和 Versicolor 萼片长度的分布如下。"
   ]
  },
  {
   "cell_type": "code",
   "execution_count": 17,
   "id": "fa2f35f1",
   "metadata": {},
   "outputs": [
    {
     "data": {
      "image/png": "[encoded data removed]",
      "text/plain": [
       "<Figure size 432x288 with 1 Axes>"
      ]
     },
     "metadata": {
      "needs_background": "light"
     },
     "output_type": "display_data"
    }
   ],
   "source": [
    "sns.histplot(iris_setosa[\"SepalLengthCm\"], binwidth=0.1, color='orange', label='iris_setosa')\n",
    "sns.histplot(iris_versicolor[\"SepalLengthCm\"], binwidth=0.1, color='green', label='iris_versicolor')\n",
    "plt.legend(bbox_to_anchor=(1,1))\n",
    "plt.show()"
   ]
  },
  {
   "cell_type": "markdown",
   "id": "6c43eb06",
   "metadata": {},
   "source": [
    "#### 建立假设"
   ]
  },
  {
   "cell_type": "markdown",
   "id": "aaec0bf7",
   "metadata": {},
   "source": [
    "$H_0$：Setosa鸢尾花和Versicolor鸢尾花萼片长度的平均值不存在显著区别。\n",
    "\n",
    "$H_1$：Setosa鸢尾花和Versicolor鸢尾花萼片长度的平均值存在显著区别。"
   ]
  },
  {
   "cell_type": "markdown",
   "id": "37d5dbac",
   "metadata": {},
   "source": [
    "#### 确认检验是单尾还是双尾"
   ]
  },
  {
   "cell_type": "markdown",
   "id": "0a806420",
   "metadata": {},
   "source": [
    "由于我们只检验平均值是否存在差异，不在乎哪个品种的萼片更长，所以是双尾检验。"
   ]
  },
  {
   "cell_type": "markdown",
   "id": "8fdfe725",
   "metadata": {},
   "source": [
    "#### 确定显著水平"
   ]
  },
  {
   "cell_type": "markdown",
   "id": "93aa0e12",
   "metadata": {},
   "source": [
    "我们将选择0.05作为显著水平。"
   ]
  },
  {
   "cell_type": "code",
   "execution_count": 18,
   "id": "61c6b334",
   "metadata": {},
   "outputs": [],
   "source": [
    "alpha = 0.05"
   ]
  },
  {
   "cell_type": "markdown",
   "id": "f95841c7",
   "metadata": {},
   "source": [
    "#### 计算t值和p值"
   ]
  },
  {
   "cell_type": "code",
   "execution_count": 19,
   "id": "7adbe62e",
   "metadata": {},
   "outputs": [
    {
     "name": "stdout",
     "output_type": "stream",
     "text": [
      "t值：-10.52098626754911\n",
      "p值：8.985235037487079e-18\n",
      "两组数据存在显著差异\n"
     ]
    }
   ],
   "source": [
    "t_stat, p_value = ttest_ind(iris_setosa[\"SepalLengthCm\"], iris_versicolor[\"SepalLengthCm\"])\n",
    "print(f\"t值：{t_stat}\")\n",
    "print(f\"p值：{p_value}\")\n",
    "if p_value < alpha:\n",
    "    print(\"两组数据存在显著差异\")\n",
    "else:\n",
    "    print(\"两组数据无显著差异\")"
   ]
  },
  {
   "cell_type": "markdown",
   "id": "cc1ecb74",
   "metadata": {},
   "source": [
    "#### 结论"
   ]
  },
  {
   "cell_type": "markdown",
   "id": "56f9496b",
   "metadata": {},
   "source": [
    "由于p值小于显著水平0.05， 我们因此拒绝原假设，说明Setosa鸢尾花和Versicolor鸢尾花萼片长度的平均值存在显著区别。"
   ]
  },
  {
   "cell_type": "markdown",
   "id": "aef20cd1",
   "metadata": {},
   "source": [
    "### 分析萼片宽度"
   ]
  },
  {
   "cell_type": "markdown",
   "id": "d70327cb",
   "metadata": {},
   "source": [
    "Setosa 和 Versicolor 萼片宽度的分布如下。"
   ]
  },
  {
   "cell_type": "code",
   "execution_count": 20,
   "id": "4cc171cb",
   "metadata": {},
   "outputs": [
    {
     "data": {
      "image/png": "[encoded data removed]",
      "text/plain": [
       "<Figure size 432x288 with 1 Axes>"
      ]
     },
     "metadata": {
      "needs_background": "light"
     },
     "output_type": "display_data"
    }
   ],
   "source": [
    "sns.histplot(iris_setosa[\"SepalWidthCm\"], binwidth=0.1, color='orange', label='iris_setosa')\n",
    "sns.histplot(iris_versicolor[\"SepalWidthCm\"], binwidth=0.1, color='green', label='iris_versicolor')\n",
    "plt.legend(bbox_to_anchor=(1,1))\n",
    "plt.show()"
   ]
  },
  {
   "cell_type": "markdown",
   "id": "857ffa8f",
   "metadata": {},
   "source": [
    "#### 建立假设"
   ]
  },
  {
   "cell_type": "markdown",
   "id": "0ac60f64",
   "metadata": {},
   "source": [
    "$H_0$:Setosa鸢尾花和Versicolor鸢尾花萼片宽度的平均值不存在显著差别。\n",
    "\n",
    "$H_1$:Setosa鸢尾花和Versicolor鸢尾花萼片宽度的平均值存在显著差别。"
   ]
  },
  {
   "cell_type": "markdown",
   "id": "7d3d087d",
   "metadata": {},
   "source": [
    "#### 确认检验是单尾还是双尾"
   ]
  },
  {
   "cell_type": "markdown",
   "id": "e0aa0197",
   "metadata": {},
   "source": [
    "由于我们只检验平均值是否存在差异，不在乎哪个品种的萼片更宽，所以是双尾检验。"
   ]
  },
  {
   "cell_type": "markdown",
   "id": "01191541",
   "metadata": {},
   "source": [
    "#### 确定显著水平"
   ]
  },
  {
   "cell_type": "markdown",
   "id": "8dfdb3af",
   "metadata": {},
   "source": [
    "我们将选择0.05作为显著水平。"
   ]
  },
  {
   "cell_type": "code",
   "execution_count": 21,
   "id": "3d3c0ef6",
   "metadata": {},
   "outputs": [],
   "source": [
    "alpha = 0.05"
   ]
  },
  {
   "cell_type": "markdown",
   "id": "816ecc2c",
   "metadata": {},
   "source": [
    "#### 计算t值和p值"
   ]
  },
  {
   "cell_type": "code",
   "execution_count": 22,
   "id": "a2200de8",
   "metadata": {},
   "outputs": [
    {
     "name": "stdout",
     "output_type": "stream",
     "text": [
      "t值：9.282772555558111\n",
      "p值：4.362239016010214e-15\n",
      "两组数据存在显著差异\n"
     ]
    }
   ],
   "source": [
    "t_stat, p_value = ttest_ind(iris_setosa[\"SepalWidthCm\"], iris_versicolor[\"SepalWidthCm\"])\n",
    "print(f\"t值：{t_stat}\")\n",
    "print(f\"p值：{p_value}\")\n",
    "if p_value < alpha:\n",
    "    print(\"两组数据存在显著差异\")\n",
    "else:\n",
    "    print(\"两组数据无显著差异\")"
   ]
  },
  {
   "cell_type": "markdown",
   "id": "71c7a375",
   "metadata": {},
   "source": [
    "#### 结论"
   ]
  },
  {
   "cell_type": "markdown",
   "id": "36a9a540",
   "metadata": {},
   "source": [
    "由于p值小于显著水平0.05，我们因此拒绝原假设，说明Setosa鸢尾花和Versicolor鸢尾花萼片宽度的平均值存在显著区别。"
   ]
  },
  {
   "cell_type": "markdown",
   "id": "6553a3c2",
   "metadata": {},
   "source": [
    "### 分析花瓣长度"
   ]
  },
  {
   "cell_type": "markdown",
   "id": "1566eb20",
   "metadata": {},
   "source": [
    "Setosa 和 Versicolor 花瓣长度的分布如下。"
   ]
  },
  {
   "cell_type": "code",
   "execution_count": 23,
   "id": "f69f47bf",
   "metadata": {},
   "outputs": [
    {
     "data": {
      "image/png": "[encoded data removed]",
      "text/plain": [
       "<Figure size 432x288 with 1 Axes>"
      ]
     },
     "metadata": {
      "needs_background": "light"
     },
     "output_type": "display_data"
    }
   ],
   "source": [
    "sns.histplot(iris_setosa[\"PetalLengthCm\"], binwidth=0.1, color='orange', label='iris_setosa')\n",
    "sns.histplot(iris_versicolor[\"PetalLengthCm\"], binwidth=0.1, color='green', label='iris_versicolor')\n",
    "plt.legend(bbox_to_anchor=(1,1))\n",
    "plt.show()"
   ]
  },
  {
   "cell_type": "markdown",
   "id": "695b6d74",
   "metadata": {},
   "source": [
    "#### 建立假设"
   ]
  },
  {
   "cell_type": "markdown",
   "id": "f9bf67bd",
   "metadata": {},
   "source": [
    "$H_0$:Setosa鸢尾花和Versicolor鸢尾花花瓣长度的平均值不存在显著区别。\n",
    "\n",
    "$H_1$:Setosa鸢尾花和Versicolor鸢尾花花瓣长度的平均值存在显著区别。"
   ]
  },
  {
   "cell_type": "markdown",
   "id": "fbe6b30e",
   "metadata": {},
   "source": [
    "#### 确认检验是单尾还是双尾"
   ]
  },
  {
   "cell_type": "markdown",
   "id": "a538446a",
   "metadata": {},
   "source": [
    "由于我们只检验平均值是否存在差异，不在乎哪个品种的花瓣更长，所以是双尾检验。"
   ]
  },
  {
   "cell_type": "markdown",
   "id": "c9c72e71",
   "metadata": {},
   "source": [
    "#### 确定显著水平"
   ]
  },
  {
   "cell_type": "markdown",
   "id": "333baad7",
   "metadata": {},
   "source": [
    "我们将选择0.05作为显著水平"
   ]
  },
  {
   "cell_type": "code",
   "execution_count": 24,
   "id": "7a483285",
   "metadata": {},
   "outputs": [],
   "source": [
    "alpha = 0.05"
   ]
  },
  {
   "cell_type": "markdown",
   "id": "fd6d61d9",
   "metadata": {},
   "source": [
    "#### 计算t值和p值"
   ]
  },
  {
   "cell_type": "code",
   "execution_count": 25,
   "id": "869ebab0",
   "metadata": {},
   "outputs": [
    {
     "name": "stdout",
     "output_type": "stream",
     "text": [
      "t值：-39.46866259397272\n",
      "p值：5.717463758170621e-62\n",
      "两组数据存在显著差异\n"
     ]
    }
   ],
   "source": [
    "t_stat, p_value = ttest_ind(iris_setosa[\"PetalLengthCm\"], iris_versicolor[\"PetalLengthCm\"])\n",
    "print(f\"t值：{t_stat}\")\n",
    "print(f\"p值：{p_value}\")\n",
    "if p_value < alpha:\n",
    "    print(\"两组数据存在显著差异\")\n",
    "else:\n",
    "    print(\"两组数据无显著差异\")"
   ]
  },
  {
   "cell_type": "markdown",
   "id": "ab8c4543",
   "metadata": {},
   "source": [
    "#### 结论"
   ]
  },
  {
   "cell_type": "markdown",
   "id": "a7477095",
   "metadata": {},
   "source": [
    "由于p值小于显著水平0.05，我们因此拒绝原假设，说明Setosa鸢尾花和Versicolor鸢尾花花瓣长度的平均值存在显著区别。"
   ]
  },
  {
   "cell_type": "markdown",
   "id": "a9dbbc2d",
   "metadata": {},
   "source": [
    "### 分析花瓣宽度"
   ]
  },
  {
   "cell_type": "markdown",
   "id": "403f5efc",
   "metadata": {},
   "source": [
    "Setosa 和 Versicolor 花瓣宽度的分布如下。"
   ]
  },
  {
   "cell_type": "code",
   "execution_count": 26,
   "id": "3357864e",
   "metadata": {},
   "outputs": [
    {
     "data": {
      "image/png": "[encoded data removed]",
      "text/plain": [
       "<Figure size 432x288 with 1 Axes>"
      ]
     },
     "metadata": {
      "needs_background": "light"
     },
     "output_type": "display_data"
    }
   ],
   "source": [
    "sns.histplot(iris_setosa[\"PetalWidthCm\"], binwidth=0.1, color='orange', label='iris_setosa')\n",
    "sns.histplot(iris_versicolor[\"PetalWidthCm\"], binwidth=0.1, color='green', label='iris_versicolor')\n",
    "plt.legend(bbox_to_anchor=(1,1))\n",
    "plt.show()"
   ]
  },
  {
   "cell_type": "markdown",
   "id": "06d305cb",
   "metadata": {},
   "source": [
    "#### 建立假设"
   ]
  },
  {
   "cell_type": "markdown",
   "id": "ce849d99",
   "metadata": {},
   "source": [
    "$H_0$：Setosa鸢尾花和Versicolor鸢尾花花瓣宽度的平均值不存在显著区别。\n",
    "\n",
    "$H_1$：Setosa鸢尾花和Versicolor鸢尾花花瓣宽度的平均值存在显著区别。"
   ]
  },
  {
   "cell_type": "markdown",
   "id": "f59ef8db",
   "metadata": {},
   "source": [
    "#### 确认检验是单尾还是双尾"
   ]
  },
  {
   "cell_type": "markdown",
   "id": "4920854b",
   "metadata": {},
   "source": [
    "由于我们只检验平均值是否存在差异，不在乎哪个品种的花瓣更宽，所以是双尾检验。"
   ]
  },
  {
   "cell_type": "markdown",
   "id": "8bf02331",
   "metadata": {},
   "source": [
    "#### 确定显著水平"
   ]
  },
  {
   "cell_type": "markdown",
   "id": "2df77e2c",
   "metadata": {},
   "source": [
    "我们将选择0.05作为显著水平。"
   ]
  },
  {
   "cell_type": "code",
   "execution_count": 27,
   "id": "4ee0172b",
   "metadata": {},
   "outputs": [],
   "source": [
    "alpha = 0.05"
   ]
  },
  {
   "cell_type": "markdown",
   "id": "12789f49",
   "metadata": {},
   "source": [
    "#### 计算t值和p值"
   ]
  },
  {
   "cell_type": "code",
   "execution_count": 28,
   "id": "cf6c7d55",
   "metadata": {},
   "outputs": [
    {
     "name": "stdout",
     "output_type": "stream",
     "text": [
      "t值：-34.01237858829048\n",
      "p值：4.589080615710866e-56\n",
      "两组数据存在显著差异\n"
     ]
    }
   ],
   "source": [
    "t_stat, p_value = ttest_ind(iris_setosa[\"PetalWidthCm\"], iris_versicolor[\"PetalWidthCm\"])\n",
    "print(f\"t值：{t_stat}\")\n",
    "print(f\"p值：{p_value}\")\n",
    "if p_value < alpha:\n",
    "    print(\"两组数据存在显著差异\")\n",
    "else:\n",
    "    print(\"两组数据无显著差异\")"
   ]
  },
  {
   "cell_type": "markdown",
   "id": "6fe6fafd",
   "metadata": {},
   "source": [
    "#### 结论"
   ]
  },
  {
   "cell_type": "markdown",
   "id": "07f84ed5",
   "metadata": {},
   "source": [
    "由于p值小于显著水平0.05，我们因此拒绝原假设，说明Setosa鸢尾花和Versicolor鸢尾花花瓣宽度的平均值存在显著区别。"
   ]
  },
  {
   "cell_type": "markdown",
   "id": "8eb0c537",
   "metadata": {},
   "source": [
    "## 结论"
   ]
  },
  {
   "cell_type": "markdown",
   "id": "30fc1335",
   "metadata": {},
   "source": [
    "通过推论统计学的计算过程，我们发现，Setosa鸢尾花和Versicolor鸢尾花萼片、花瓣的长度和宽度平均值，均存在具有统计显著性的差异。"
   ]
  },
  {
   "cell_type": "code",
   "execution_count": null,
   "id": "054382b1",
   "metadata": {},
   "outputs": [],
   "source": []
  }
 ],
 "metadata": {
  "kernelspec": {
   "display_name": "Python 3 (ipykernel)",
   "language": "python",
   "name": "python3"
  },
  "language_info": {
   "codemirror_mode": {
    "name": "ipython",
    "version": 3
   },
   "file_extension": ".py",
   "mimetype": "text/x-python",
   "name": "python",
   "nbconvert_exporter": "python",
   "pygments_lexer": "ipython3",
   "version": "3.9.12"
  }
 },
 "nbformat": 4,
 "nbformat_minor": 5
}
